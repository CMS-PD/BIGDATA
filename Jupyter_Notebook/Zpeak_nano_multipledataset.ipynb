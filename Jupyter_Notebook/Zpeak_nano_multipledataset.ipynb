{
 "cells": [
  {
   "cell_type": "code",
   "execution_count": 9,
   "metadata": {},
   "outputs": [
    {
     "name": "stdout",
     "output_type": "stream",
     "text": [
      "Once deleted, variables cannot be recovered. Proceed (y/[n])? y\n"
     ]
    }
   ],
   "source": [
    "#Start up Spark (only needs to be done once)\n",
    "%reset\n",
    "import os\n",
    "import pyspark.sql\n",
    "import sys\n",
    "#from pyspark.sql.functions import abs\n",
    "#from pyspark.sql.functions import cosh\n",
    "#from pyspark.sql.functions import cos\n",
    "#from pyspark.sql.functions import sqrt\n",
    "\n",
    "#!export KRB5CCNAME=FILE:/tmp/${USER}_krb\n",
    "#!kinit -c /tmp/${USER}_krb\n",
    "\n",
    "session = pyspark.sql.SparkSession.builder \\\n",
    "    .master(\n",
    "        #\"spark://10.64.22.66:7077\"\n",
    "        \"local\"\n",
    "    ) \\\n",
    "    .appName(# Name of your application in the dashboard/UI\n",
    "             \"Zpeak\"\n",
    "            ) \\\n",
    "    .config(# Tell Spark to load some extra libraries from Maven (the Java repository)\n",
    "            'spark.jars.packages',\n",
    "            'org.diana-hep:spark-root_2.11:0.1.16,org.diana-hep:histogrammar-sparksql_2.11:1.0.4'\n",
    "            )\\\n",
    "    .config('spark.cores.max,3'\n",
    "            ) \\\n",
    "    .getOrCreate()\n",
    "    \n",
    "sc = session.sparkContext\n",
    "sqlContext = session\n",
    "#!hdfs dfs -ls hdfs://10.64.22.72:9000/NANO_Prod"
   ]
  },
  {
   "cell_type": "markdown",
   "metadata": {},
   "source": [
    "# Loading NanoAod root files using spark-root package\n",
    "Loading the nanoaod root file serving from hadoop cluster, and load the tree in dedicated TDirectory in the root file."
   ]
  },
  {
   "cell_type": "code",
   "execution_count": 10,
   "metadata": {},
   "outputs": [
    {
     "name": "stdout",
     "output_type": "stream",
     "text": [
      "TT\n",
      "WW\n",
      "SingleMuon\n",
      "ZZ\n",
      "DYJetsToLL\n",
      "WZ\n",
      "Number of element:\n",
      "DFList size = 6\n",
      "Number of columns:\n",
      "DFList[0][0] = 979\n",
      "DFList[0][0] = 964\n",
      "DFList[1][0] = 869\n",
      "DFList[2][0] = 964\n",
      "DFList[3][0] = 979\n",
      "DFList[4][0] = 964\n"
     ]
    }
   ],
   "source": [
    "import json\n",
    "from pyspark.sql.functions import lit\n",
    "from samples import *\n",
    "\n",
    "\n",
    "DFList = [] # will contain six dataframe from six processes with added xsec, eff, kfactor, weight, samples\n",
    "\n",
    "for s in samples:\n",
    "    print s\n",
    "    dsPath = \"hdfs://10.64.22.72:9000/\"+BASE+samples[s]['filename']\n",
    "    tempDF = sqlContext.read \\\n",
    "                .format(\"org.dianahep.sparkroot\") \\\n",
    "                .option(\"tree\", \"Events\") \\\n",
    "                .load(dsPath)\\\n",
    "                .withColumn(\"proc_xsec\", lit(samples[s]['xsec']))\\\n",
    "                .withColumn(\"proc_eff\", lit(samples[s]['eff']))\\\n",
    "                .withColumn(\"proc_kfactor\", lit(samples[s]['kfactor']))\\\n",
    "                .withColumn(\"proc_weight\", lit(samples[s]['weight']))\\\n",
    "                .withColumn(\"proc_sample\", lit(s))        \n",
    "    nev = tempDF.count()\n",
    "    if samples[s]['xsec'] == None: # Data       \n",
    "        DFList.append([tempDF.withColumn(\"proc_nevents\",lit(nev))])        \n",
    "    else: # MC\n",
    "        samples[s]['weight'] = samples[s]['xsec'] * samples[s]['eff'] * samples[s]['kfactor'] * LUMI / nev\n",
    "        DFList.append([tempDF.withColumn(\"proc_nevents\",lit(nev))])        \n",
    "\n",
    "print \"Number of element:\"\n",
    "print \"DFList size =\", len(DFList)\n",
    "print \"Number of columns:\"\n",
    "print \"DFList[0][0] =\", len(DFList[0][0].columns)\n",
    "print \"DFList[0][0] =\", len(DFList[1][0].columns)\n",
    "print \"DFList[1][0] =\", len(DFList[2][0].columns)\n",
    "print \"DFList[2][0] =\", len(DFList[3][0].columns)\n",
    "print \"DFList[3][0] =\", len(DFList[4][0].columns)\n",
    "print \"DFList[4][0] =\", len(DFList[5][0].columns)"
   ]
  },
  {
   "cell_type": "markdown",
   "metadata": {},
   "source": [
    "# Reducing columns and Concatenate dataframes\n",
    "\n",
    "Select related attributes and concatenate all dataframes under one for ease of interpretation."
   ]
  },
  {
   "cell_type": "code",
   "execution_count": 11,
   "metadata": {},
   "outputs": [
    {
     "name": "stdout",
     "output_type": "stream",
     "text": [
      "Partitions:  6\n",
      "+-----------+-----------------+---------+------------+\n",
      "|proc_sample|      proc_weight|proc_xsec|proc_nevents|\n",
      "+-----------+-----------------+---------+------------+\n",
      "|         TT|78.15226773660807|   831.76|      382077|\n",
      "|         TT|78.15226773660807|   831.76|      382077|\n",
      "|         TT|78.15226773660807|   831.76|      382077|\n",
      "+-----------+-----------------+---------+------------+\n",
      "only showing top 3 rows\n",
      "\n",
      "+-----------+------------------+---------+------------+\n",
      "|proc_sample|       proc_weight|proc_xsec|proc_nevents|\n",
      "+-----------+------------------+---------+------------+\n",
      "| DYJetsToLL|376.46712381090964|   5765.4|      549790|\n",
      "| DYJetsToLL|376.46712381090964|   5765.4|      549790|\n",
      "| DYJetsToLL|376.46712381090964|   5765.4|      549790|\n",
      "+-----------+------------------+---------+------------+\n",
      "only showing top 3 rows\n",
      "\n",
      "+-----------+-----------------+---------+------------+\n",
      "|proc_sample|      proc_weight|proc_xsec|proc_nevents|\n",
      "+-----------+-----------------+---------+------------+\n",
      "|         ZZ|1.241169315871905|     16.6|      480144|\n",
      "|         ZZ|1.241169315871905|     16.6|      480144|\n",
      "|         ZZ|1.241169315871905|     16.6|      480144|\n",
      "+-----------+-----------------+---------+------------+\n",
      "only showing top 3 rows\n",
      "\n",
      "+-----------+------------------+---------+------------+\n",
      "|proc_sample|       proc_weight|proc_xsec|proc_nevents|\n",
      "+-----------+------------------+---------+------------+\n",
      "|         WZ|3.9959627212013733|     47.2|      424048|\n",
      "|         WZ|3.9959627212013733|     47.2|      424048|\n",
      "|         WZ|3.9959627212013733|     47.2|      424048|\n",
      "+-----------+------------------+---------+------------+\n",
      "only showing top 3 rows\n",
      "\n",
      "+-----------+-----------------+---------+------------+\n",
      "|proc_sample|      proc_weight|proc_xsec|proc_nevents|\n",
      "+-----------+-----------------+---------+------------+\n",
      "|         WW|12.21172418141073|    118.7|      348954|\n",
      "|         WW|12.21172418141073|    118.7|      348954|\n",
      "|         WW|12.21172418141073|    118.7|      348954|\n",
      "+-----------+-----------------+---------+------------+\n",
      "only showing top 3 rows\n",
      "\n",
      "+-----------+-----------+---------+------------+\n",
      "|proc_sample|proc_weight|proc_xsec|proc_nevents|\n",
      "+-----------+-----------+---------+------------+\n",
      "| SingleMuon|        1.0|     null|      477186|\n",
      "| SingleMuon|        1.0|     null|      477186|\n",
      "| SingleMuon|        1.0|     null|      477186|\n",
      "+-----------+-----------+---------+------------+\n",
      "only showing top 3 rows\n",
      "\n"
     ]
    }
   ],
   "source": [
    "header = list(DFList[0][0].columns) #infer the column header from one of the dataframe\n",
    "globalAttr = [g for g in header if 'proc_' in g]\n",
    "muonAttr = [muon for muon in header if 'Muon' in muon and 'genPart' not in muon]\n",
    "jetAttr = [jet for jet in header if 'Jet' in jet and 'HLT' not in jet]\n",
    "electronAttr = [electron for electron in header if 'Electron' in electron]\n",
    "Attributes = muonAttr + globalAttr\n",
    "DF = None\n",
    "if DFList:\n",
    "    DF = DFList[0][0].select(Attributes)\n",
    "    for x in DFList[1:]:\n",
    "        DF = DF.union(x[0].select(Attributes))\n",
    "    print \"Partitions:  %d\" % DF.rdd.getNumPartitions()\n",
    "    \n",
    "DF.select('proc_sample','proc_weight','proc_xsec','proc_nevents').filter(DF.proc_sample.like(\"TT\")).show(3)\n",
    "DF.select('proc_sample','proc_weight','proc_xsec','proc_nevents').filter(DF.proc_sample.like(\"DYJetsToLL\")).show(3)\n",
    "DF.select('proc_sample','proc_weight','proc_xsec','proc_nevents').filter(DF.proc_sample.like(\"ZZ\")).show(3)\n",
    "DF.select('proc_sample','proc_weight','proc_xsec','proc_nevents').filter(DF.proc_sample.like(\"WZ\")).show(3)\n",
    "DF.select('proc_sample','proc_weight','proc_xsec','proc_nevents').filter(DF.proc_sample.like(\"WW\")).show(3)\n",
    "DF.select('proc_sample','proc_weight','proc_xsec','proc_nevents').filter(DF.proc_sample.like(\"SingleMuon\")).show(3)"
   ]
  },
  {
   "cell_type": "markdown",
   "metadata": {},
   "source": [
    "# User Defined Function Definition and helper function\n",
    "\n",
    "User Defined Function (UDF) is a function passes row by row to compute derived quantity such as invaraint mass of two physics objects involving multiple column. Helper function defined to facilitate event selection (using spark feature such as filter instead of python defined function (thanks to NANOAOD structure!))"
   ]
  },
  {
   "cell_type": "code",
   "execution_count": 12,
   "metadata": {},
   "outputs": [],
   "source": [
    "#Define function\n",
    "#MuonEta = df.withColumn('Muon_eta[0]',abs(df.Value))\n",
    "from ROOT import TLorentzVector, gROOT\n",
    "\n",
    "def invariantMass(arr):\n",
    "    \n",
    "    lepton1 = TLorentzVector(); lepton1.SetPtEtaPhiM(0.,0.,0.,0.)\n",
    "    lepton2 = TLorentzVector(); lepton2.SetPtEtaPhiM(0.,0.,0.,0.)\n",
    "    Zsystem = TLorentzVector(); Zsystem.SetPtEtaPhiM(0.,0.,0.,0.)\n",
    "    \n",
    "    lepton1.SetPtEtaPhiM(arr[0][0],arr[1][0],arr[2][0],arr[3][0])\n",
    "    lepton2.SetPtEtaPhiM(arr[0][1],arr[1][1],arr[2][1],arr[3][1])\n",
    "    Zsystem =lepton1+lepton2\n",
    "    return float(Zsystem.M())\n",
    "\n",
    "def passMuonSel(dataframe):\n",
    "    return (dataframe.filter(\"Muon_pt[0]>10.0\").filter(\"Muon_pfRelIso04_all[0]<0.12\"))\n",
    "\n",
    "def passEventSel(dataframe):\n",
    "    return (dataframe.filter(\"nMuon>1\").filter(\"Muon_pt[0]>25.0\").filter(\"Muon_pfRelIso04_all[0]<0.5\"))\n"
   ]
  },
  {
   "cell_type": "markdown",
   "metadata": {},
   "source": [
    "# Event Selection\n",
    "\n",
    "Physics object-oriented selection and general event selection. Note: eta selection is ommitted, the abs() feature is not permitted in spark filter. "
   ]
  },
  {
   "cell_type": "code",
   "execution_count": 13,
   "metadata": {},
   "outputs": [
    {
     "name": "stdout",
     "output_type": "stream",
     "text": [
      "Muon Selection, number of event =  607712\n",
      "General Event Selection, number of event =  166244\n"
     ]
    }
   ],
   "source": [
    "#muon selection\n",
    "DF = passMuonSel(DF)\n",
    "print \"Muon Selection, number of event = \", DF.count()\n",
    "DF = passEventSel(DF)\n",
    "print \"General Event Selection, number of event = \", DF.count()"
   ]
  },
  {
   "cell_type": "markdown",
   "metadata": {},
   "source": [
    "# Computing the invaraince mass of two lepton \n",
    "\n",
    "Deploying the UDF to take kinemtaics variables of muons, constructing TLorenztVecotr on the fly and append a new column to reduced table (Muon object selection)"
   ]
  },
  {
   "cell_type": "code",
   "execution_count": 14,
   "metadata": {
    "scrolled": false
   },
   "outputs": [
    {
     "name": "stdout",
     "output_type": "stream",
     "text": [
      "+-----------+---------+-----------------+\n",
      "|proc_sample|      mll|      proc_weight|\n",
      "+-----------+---------+-----------------+\n",
      "|         TT|37.827938|78.15226773660807|\n",
      "|         TT|51.837776|78.15226773660807|\n",
      "|         TT|144.83916|78.15226773660807|\n",
      "|         TT| 71.81045|78.15226773660807|\n",
      "|         TT| 77.16723|78.15226773660807|\n",
      "+-----------+---------+-----------------+\n",
      "only showing top 5 rows\n",
      "\n",
      "+-----------+----------+------------------+\n",
      "|proc_sample|       mll|       proc_weight|\n",
      "+-----------+----------+------------------+\n",
      "| DYJetsToLL|  92.16055|376.46712381090964|\n",
      "| DYJetsToLL|  78.37113|376.46712381090964|\n",
      "| DYJetsToLL|  65.17627|376.46712381090964|\n",
      "| DYJetsToLL|104.037766|376.46712381090964|\n",
      "| DYJetsToLL| 90.211586|376.46712381090964|\n",
      "+-----------+----------+------------------+\n",
      "only showing top 5 rows\n",
      "\n",
      "+-----------+---------+-----------------+\n",
      "|proc_sample|      mll|      proc_weight|\n",
      "+-----------+---------+-----------------+\n",
      "|         ZZ| 70.18849|1.241169315871905|\n",
      "|         ZZ|  82.7106|1.241169315871905|\n",
      "|         ZZ| 90.65498|1.241169315871905|\n",
      "|         ZZ|90.474236|1.241169315871905|\n",
      "|         ZZ|97.944565|1.241169315871905|\n",
      "+-----------+---------+-----------------+\n",
      "only showing top 5 rows\n",
      "\n",
      "+-----------+---------+------------------+\n",
      "|proc_sample|      mll|       proc_weight|\n",
      "+-----------+---------+------------------+\n",
      "|         WZ|90.032646|3.9959627212013733|\n",
      "|         WZ|  90.7335|3.9959627212013733|\n",
      "|         WZ|  96.1964|3.9959627212013733|\n",
      "|         WZ| 88.58728|3.9959627212013733|\n",
      "|         WZ| 83.90562|3.9959627212013733|\n",
      "+-----------+---------+------------------+\n",
      "only showing top 5 rows\n",
      "\n",
      "+-----------+---------+-----------------+\n",
      "|proc_sample|      mll|      proc_weight|\n",
      "+-----------+---------+-----------------+\n",
      "|         WW|32.562294|12.21172418141073|\n",
      "|         WW| 251.5058|12.21172418141073|\n",
      "|         WW| 152.2747|12.21172418141073|\n",
      "|         WW| 85.65901|12.21172418141073|\n",
      "|         WW|7.3832803|12.21172418141073|\n",
      "+-----------+---------+-----------------+\n",
      "only showing top 5 rows\n",
      "\n",
      "+-----------+---------+-----------+\n",
      "|proc_sample|      mll|proc_weight|\n",
      "+-----------+---------+-----------+\n",
      "| SingleMuon| 89.35462|        1.0|\n",
      "| SingleMuon|37.607964|        1.0|\n",
      "| SingleMuon|60.266308|        1.0|\n",
      "| SingleMuon|23.525764|        1.0|\n",
      "| SingleMuon|92.423805|        1.0|\n",
      "+-----------+---------+-----------+\n",
      "only showing top 5 rows\n",
      "\n"
     ]
    }
   ],
   "source": [
    "#header = list(df.columns)\n",
    "#muonAttr = [muon for muon in header if 'Muon' in muon]\n",
    "#dsMuons = df.select(muonAttr)\n",
    "\n",
    "from pyspark.sql.functions import udf, array\n",
    "from pyspark.sql.types import FloatType\n",
    "MllUDF = udf(lambda z: invariantMass(z), FloatType())\n",
    "\n",
    "DF = DF.withColumn('mll',MllUDF(array('Muon_pt','Muon_eta','Muon_phi','Muon_mass')))\n",
    "#MLL = dfMuon.select(MllUDF(array('Muon_pt','Muon_eta','Muon_phi','Muon_mass')).alias('mll'))\n",
    "#MLL.show(10)\n",
    "\n",
    "DF.select('proc_sample','mll','proc_weight').filter(DF.proc_sample.like(\"TT\")).show(5)\n",
    "DF.select('proc_sample','mll','proc_weight').filter(DF.proc_sample.like(\"DYJetsToLL\")).show(5)\n",
    "DF.select('proc_sample','mll','proc_weight').filter(DF.proc_sample.like(\"ZZ\")).show(5)\n",
    "DF.select('proc_sample','mll','proc_weight').filter(DF.proc_sample.like(\"WZ\")).show(5)\n",
    "DF.select('proc_sample','mll','proc_weight').filter(DF.proc_sample.like(\"WW\")).show(5)\n",
    "DF.select('proc_sample','mll','proc_weight').filter(DF.proc_sample.like(\"SingleMuon\")).show(5)"
   ]
  },
  {
   "cell_type": "markdown",
   "metadata": {},
   "source": [
    "# Plotting the invariance mass of Z boson (matplotlib)\n",
    "\n",
    "Via Histogrammer, the computed quantity which appended to the big table is plotted using external package such as matplotlib"
   ]
  },
  {
   "cell_type": "code",
   "execution_count": 12,
   "metadata": {
    "scrolled": true
   },
   "outputs": [
    {
     "ename": "SyntaxError",
     "evalue": "invalid syntax (<ipython-input-12-1210d1f6548f>, line 17)",
     "output_type": "error",
     "traceback": [
      "\u001b[0;36m  File \u001b[0;32m\"<ipython-input-12-1210d1f6548f>\"\u001b[0;36m, line \u001b[0;32m17\u001b[0m\n\u001b[0;31m    plt.hist([x['mll'] if x.proc_sample == samples[0] for x in DF ],\u001b[0m\n\u001b[0m                                                        ^\u001b[0m\n\u001b[0;31mSyntaxError\u001b[0m\u001b[0;31m:\u001b[0m invalid syntax\n"
     ]
    }
   ],
   "source": [
    "#make histogram using matplotlib\n",
    "from histogrammar import *\n",
    "import histogrammar.sparksql\n",
    "import numpy as np\n",
    "import matplotlib.pyplot as plt\n",
    "\n",
    "fig = plt.figure(figsize=(8,6))\n",
    "\n",
    "# set up binning.  get also bin centers, to use for data points\n",
    "bin_size = 2\n",
    "xmin = 50\n",
    "xmax = 131 # should make this slightly larger than the desired end point of the plot\n",
    "binning = np.arange(xmin,xmax,bin_size)\n",
    "binning_centers = np.arange(xmin + bin_size/2.,xmax,bin_size)\n",
    "\n",
    "# for MC, can plot all together as a stacked histogram\n",
    "plt.hist([df['mll'] for df in DF.keys()],\n",
    "         weights=[x['weight'] if x.proc_sample == samples[0] for x in DF],\n",
    "         label=samples_dfs.keys(),\n",
    "         color=color_dict.values(),\n",
    "         bins=binning, histtype='bar', stacked=True\n",
    "        )\n",
    "\n",
    "#declaration of histogram\n",
    "#histogrammar.sparksql.addMethods(dfMuon)\n",
    "#hist = dfMuon.Bin(40, 0, 200, dfMuon['mll'])\n",
    "#plt.xlabel('$M_{\\mu\\mu}$ [GeV]')\n",
    "#plt.ylabel('Events')\n",
    "#hist.plot.matplotlib(name=\"Invariant mass of Z boson\")\n",
    "\n",
    "plt.show()"
   ]
  },
  {
   "cell_type": "markdown",
   "metadata": {},
   "source": [
    "# Plotting the invariance mass of Z boson (root)\n",
    "\n",
    "Via histogrammer, the computed quantity which appended to the big table is plotted using numpy + root packages"
   ]
  },
  {
   "cell_type": "code",
   "execution_count": 9,
   "metadata": {},
   "outputs": [
    {
     "ename": "AnalysisException",
     "evalue": "u\"cannot resolve '`mll`' given input columns: [proc_kfactor, Muon_pt, Jet_nMuons, proc_eff, proc_weight, Muon_miniPFRelIso_chg, Muon_pfRelIso03_chg, HLT_QuadMuon0_Dimuon0_Upsilon, Muon_nStations, nMuon, Muon_highPtId, Muon_sip3d, Muon_mass, Muon_sip3d_ugo, Muon_miniPFRelIso_all, Muon_jetIdx, Muon_isPFcand, Muon_charge, Muon_dxyErr, Muon_ip3d_ugo, Muon_dzErr, Muon_nTrackerLayers, HLT_QuadMuon0_Dimuon0_Jpsi, proc_sample, Muon_pfRelIso04_all, HLT_Dimuon0_Upsilon_Muon, Muon_tightCharge, Muon_eta, Muon_mvaTTH, Muon_ptErr, Muon_tightId, Muon_dxyErr_ugo, Muon_segmentComp, Muon_mediumId, Muon_cleanmask, Muon_dxy, proc_xsec, Muon_ip3d, Muon_softId, HLT_Dimuon0_Jpsi_Muon, Muon_phi, Muon_pfRelIso03_all, Muon_pdgId, Muon_dxy_ugo, Muon_dz];;\\n'Project ['mll]\\n+- Filter proc_sample#5857 LIKE TT\\n   +- Filter (cast(Muon_pfRelIso04_all#174[0] as double) < cast(0.5 as double))\\n      +- Filter (cast(Muon_pt#176[0] as double) > cast(25.0 as double))\\n         +- Filter (nMuon#159 > 1)\\n            +- Filter (cast(Muon_pfRelIso04_all#174[0] as double) < cast(0.12 as double))\\n               +- Filter (cast(Muon_pt#176[0] as double) > cast(10.0 as double))\\n                  +- Union\\n                     :- Project [Jet_nMuons#136, nMuon#159, Muon_dxy#160, Muon_dxyErr#161, Muon_dxyErr_ugo#162, Muon_dxy_ugo#163, Muon_dz#164, Muon_dzErr#165, Muon_eta#166, Muon_ip3d#167, Muon_ip3d_ugo#168, Muon_mass#169, Muon_miniPFRelIso_all#170, Muon_miniPFRelIso_chg#171, Muon_pfRelIso03_all#172, Muon_pfRelIso03_chg#173, Muon_pfRelIso04_all#174, Muon_phi#175, Muon_pt#176, Muon_ptErr#177, Muon_segmentComp#178, Muon_sip3d#179, Muon_sip3d_ugo#180, Muon_mvaTTH#181, ... 21 more fields]\\n                     :  +- Project [Jet_nMuons#136, nMuon#159, Muon_dxy#160, Muon_dxyErr#161, Muon_dxyErr_ugo#162, Muon_dxy_ugo#163, Muon_dz#164, Muon_dzErr#165, Muon_eta#166, Muon_ip3d#167, Muon_ip3d_ugo#168, Muon_mass#169, Muon_miniPFRelIso_all#170, Muon_miniPFRelIso_chg#171, Muon_pfRelIso03_all#172, Muon_pfRelIso03_chg#173, Muon_pfRelIso04_all#174, Muon_phi#175, Muon_pt#176, Muon_ptErr#177, Muon_segmentComp#178, Muon_sip3d#179, Muon_sip3d_ugo#180, Muon_mvaTTH#181, ... 21 more fields]\\n                     :     +- Project [run#0, luminosityBlock#1, event#2L, CaloMET_phi#3, CaloMET_pt#4, CaloMET_sumEt#5, nElectron#6, Electron_deltaEtaSC#7, Electron_dr03EcalRecHitSumEt#8, Electron_dr03HcalDepth1TowerSumEt#9, Electron_dr03TkSumPt#10, Electron_dxy#11, Electron_dxyErr#12, Electron_dxyErr_ugo#13, Electron_dxy_ugo#14, Electron_dz#15, Electron_dzErr#16, Electron_eCorr#17, Electron_eInvMinusPInv#18, Electron_energyErr#19, Electron_eta#20, Electron_hoe#21, Electron_ip3d#22, Electron_ip3d_ugo#23, ... 955 more fields]\\n                     :        +- Project [run#0, luminosityBlock#1, event#2L, CaloMET_phi#3, CaloMET_pt#4, CaloMET_sumEt#5, nElectron#6, Electron_deltaEtaSC#7, Electron_dr03EcalRecHitSumEt#8, Electron_dr03HcalDepth1TowerSumEt#9, Electron_dr03TkSumPt#10, Electron_dxy#11, Electron_dxyErr#12, Electron_dxyErr_ugo#13, Electron_dxy_ugo#14, Electron_dz#15, Electron_dzErr#16, Electron_eCorr#17, Electron_eInvMinusPInv#18, Electron_energyErr#19, Electron_eta#20, Electron_hoe#21, Electron_ip3d#22, Electron_ip3d_ugo#23, ... 954 more fields]\\n                     :           +- Project [run#0, luminosityBlock#1, event#2L, CaloMET_phi#3, CaloMET_pt#4, CaloMET_sumEt#5, nElectron#6, Electron_deltaEtaSC#7, Electron_dr03EcalRecHitSumEt#8, Electron_dr03HcalDepth1TowerSumEt#9, Electron_dr03TkSumPt#10, Electron_dxy#11, Electron_dxyErr#12, Electron_dxyErr_ugo#13, Electron_dxy_ugo#14, Electron_dz#15, Electron_dzErr#16, Electron_eCorr#17, Electron_eInvMinusPInv#18, Electron_energyErr#19, Electron_eta#20, Electron_hoe#21, Electron_ip3d#22, Electron_ip3d_ugo#23, ... 953 more fields]\\n                     :              +- Project [run#0, luminosityBlock#1, event#2L, CaloMET_phi#3, CaloMET_pt#4, CaloMET_sumEt#5, nElectron#6, Electron_deltaEtaSC#7, Electron_dr03EcalRecHitSumEt#8, Electron_dr03HcalDepth1TowerSumEt#9, Electron_dr03TkSumPt#10, Electron_dxy#11, Electron_dxyErr#12, Electron_dxyErr_ugo#13, Electron_dxy_ugo#14, Electron_dz#15, Electron_dzErr#16, Electron_eCorr#17, Electron_eInvMinusPInv#18, Electron_energyErr#19, Electron_eta#20, Electron_hoe#21, Electron_ip3d#22, Electron_ip3d_ugo#23, ... 952 more fields]\\n                     :                 +- Project [run#0, luminosityBlock#1, event#2L, CaloMET_phi#3, CaloMET_pt#4, CaloMET_sumEt#5, nElectron#6, Electron_deltaEtaSC#7, Electron_dr03EcalRecHitSumEt#8, Electron_dr03HcalDepth1TowerSumEt#9, Electron_dr03TkSumPt#10, Electron_dxy#11, Electron_dxyErr#12, Electron_dxyErr_ugo#13, Electron_dxy_ugo#14, Electron_dz#15, Electron_dzErr#16, Electron_eCorr#17, Electron_eInvMinusPInv#18, Electron_energyErr#19, Electron_eta#20, Electron_hoe#21, Electron_ip3d#22, Electron_ip3d_ugo#23, ... 951 more fields]\\n                     :                    +- Project [run#0, luminosityBlock#1, event#2L, CaloMET_phi#3, CaloMET_pt#4, CaloMET_sumEt#5, nElectron#6, Electron_deltaEtaSC#7, Electron_dr03EcalRecHitSumEt#8, Electron_dr03HcalDepth1TowerSumEt#9, Electron_dr03TkSumPt#10, Electron_dxy#11, Electron_dxyErr#12, Electron_dxyErr_ugo#13, Electron_dxy_ugo#14, Electron_dz#15, Electron_dzErr#16, Electron_eCorr#17, Electron_eInvMinusPInv#18, Electron_energyErr#19, Electron_eta#20, Electron_hoe#21, Electron_ip3d#22, Electron_ip3d_ugo#23, ... 950 more fields]\\n                     :                       +- Relation[run#0,luminosityBlock#1,event#2L,CaloMET_phi#3,CaloMET_pt#4,CaloMET_sumEt#5,nElectron#6,Electron_deltaEtaSC#7,Electron_dr03EcalRecHitSumEt#8,Electron_dr03HcalDepth1TowerSumEt#9,Electron_dr03TkSumPt#10,Electron_dxy#11,Electron_dxyErr#12,Electron_dxyErr_ugo#13,Electron_dxy_ugo#14,Electron_dz#15,Electron_dzErr#16,Electron_eCorr#17,Electron_eInvMinusPInv#18,Electron_energyErr#19,Electron_eta#20,Electron_hoe#21,Electron_ip3d#22,Electron_ip3d_ugo#23,... 949 more fields] org.dianahep.sparkroot.package$RootTableScan@310cf2cd\\n                     :- Project [Jet_nMuons#8934, nMuon#8947, Muon_dxy#8948, Muon_dxyErr#8949, Muon_dxyErr_ugo#8950, Muon_dxy_ugo#8951, Muon_dz#8952, Muon_dzErr#8953, Muon_eta#8954, Muon_ip3d#8955, Muon_ip3d_ugo#8956, Muon_mass#8957, Muon_miniPFRelIso_all#8958, Muon_miniPFRelIso_chg#8959, Muon_pfRelIso03_all#8960, Muon_pfRelIso03_chg#8961, Muon_pfRelIso04_all#8962, Muon_phi#8963, Muon_pt#8964, Muon_ptErr#8965, Muon_segmentComp#8966, Muon_sip3d#8967, Muon_sip3d_ugo#8968, Muon_mvaTTH#8969, ... 21 more fields]\\n                     :  +- Project [Jet_nMuons#8934, nMuon#8947, Muon_dxy#8948, Muon_dxyErr#8949, Muon_dxyErr_ugo#8950, Muon_dxy_ugo#8951, Muon_dz#8952, Muon_dzErr#8953, Muon_eta#8954, Muon_ip3d#8955, Muon_ip3d_ugo#8956, Muon_mass#8957, Muon_miniPFRelIso_all#8958, Muon_miniPFRelIso_chg#8959, Muon_pfRelIso03_all#8960, Muon_pfRelIso03_chg#8961, Muon_pfRelIso04_all#8962, Muon_phi#8963, Muon_pt#8964, Muon_ptErr#8965, Muon_segmentComp#8966, Muon_sip3d#8967, Muon_sip3d_ugo#8968, Muon_mvaTTH#8969, ... 21 more fields]\\n                     :     +- Project [run#8803, luminosityBlock#8804, event#8805L, CaloMET_phi#8806, CaloMET_pt#8807, CaloMET_sumEt#8808, nElectron#8809, Electron_deltaEtaSC#8810, Electron_dr03EcalRecHitSumEt#8811, Electron_dr03HcalDepth1TowerSumEt#8812, Electron_dr03TkSumPt#8813, Electron_dxy#8814, Electron_dxyErr#8815, Electron_dxyErr_ugo#8816, Electron_dxy_ugo#8817, Electron_dz#8818, Electron_dzErr#8819, Electron_eCorr#8820, Electron_eInvMinusPInv#8821, Electron_energyErr#8822, Electron_eta#8823, Electron_hoe#8824, Electron_ip3d#8825, Electron_ip3d_ugo#8826, ... 940 more fields]\\n                     :        +- Project [run#8803, luminosityBlock#8804, event#8805L, CaloMET_phi#8806, CaloMET_pt#8807, CaloMET_sumEt#8808, nElectron#8809, Electron_deltaEtaSC#8810, Electron_dr03EcalRecHitSumEt#8811, Electron_dr03HcalDepth1TowerSumEt#8812, Electron_dr03TkSumPt#8813, Electron_dxy#8814, Electron_dxyErr#8815, Electron_dxyErr_ugo#8816, Electron_dxy_ugo#8817, Electron_dz#8818, Electron_dzErr#8819, Electron_eCorr#8820, Electron_eInvMinusPInv#8821, Electron_energyErr#8822, Electron_eta#8823, Electron_hoe#8824, Electron_ip3d#8825, Electron_ip3d_ugo#8826, ... 939 more fields]\\n                     :           +- Project [run#8803, luminosityBlock#8804, event#8805L, CaloMET_phi#8806, CaloMET_pt#8807, CaloMET_sumEt#8808, nElectron#8809, Electron_deltaEtaSC#8810, Electron_dr03EcalRecHitSumEt#8811, Electron_dr03HcalDepth1TowerSumEt#8812, Electron_dr03TkSumPt#8813, Electron_dxy#8814, Electron_dxyErr#8815, Electron_dxyErr_ugo#8816, Electron_dxy_ugo#8817, Electron_dz#8818, Electron_dzErr#8819, Electron_eCorr#8820, Electron_eInvMinusPInv#8821, Electron_energyErr#8822, Electron_eta#8823, Electron_hoe#8824, Electron_ip3d#8825, Electron_ip3d_ugo#8826, ... 938 more fields]\\n                     :              +- Project [run#8803, luminosityBlock#8804, event#8805L, CaloMET_phi#8806, CaloMET_pt#8807, CaloMET_sumEt#8808, nElectron#8809, Electron_deltaEtaSC#8810, Electron_dr03EcalRecHitSumEt#8811, Electron_dr03HcalDepth1TowerSumEt#8812, Electron_dr03TkSumPt#8813, Electron_dxy#8814, Electron_dxyErr#8815, Electron_dxyErr_ugo#8816, Electron_dxy_ugo#8817, Electron_dz#8818, Electron_dzErr#8819, Electron_eCorr#8820, Electron_eInvMinusPInv#8821, Electron_energyErr#8822, Electron_eta#8823, Electron_hoe#8824, Electron_ip3d#8825, Electron_ip3d_ugo#8826, ... 937 more fields]\\n                     :                 +- Project [run#8803, luminosityBlock#8804, event#8805L, CaloMET_phi#8806, CaloMET_pt#8807, CaloMET_sumEt#8808, nElectron#8809, Electron_deltaEtaSC#8810, Electron_dr03EcalRecHitSumEt#8811, Electron_dr03HcalDepth1TowerSumEt#8812, Electron_dr03TkSumPt#8813, Electron_dxy#8814, Electron_dxyErr#8815, Electron_dxyErr_ugo#8816, Electron_dxy_ugo#8817, Electron_dz#8818, Electron_dzErr#8819, Electron_eCorr#8820, Electron_eInvMinusPInv#8821, Electron_energyErr#8822, Electron_eta#8823, Electron_hoe#8824, Electron_ip3d#8825, Electron_ip3d_ugo#8826, ... 936 more fields]\\n                     :                    +- Project [run#8803, luminosityBlock#8804, event#8805L, CaloMET_phi#8806, CaloMET_pt#8807, CaloMET_sumEt#8808, nElectron#8809, Electron_deltaEtaSC#8810, Electron_dr03EcalRecHitSumEt#8811, Electron_dr03HcalDepth1TowerSumEt#8812, Electron_dr03TkSumPt#8813, Electron_dxy#8814, Electron_dxyErr#8815, Electron_dxyErr_ugo#8816, Electron_dxy_ugo#8817, Electron_dz#8818, Electron_dzErr#8819, Electron_eCorr#8820, Electron_eInvMinusPInv#8821, Electron_energyErr#8822, Electron_eta#8823, Electron_hoe#8824, Electron_ip3d#8825, Electron_ip3d_ugo#8826, ... 935 more fields]\\n                     :                       +- Relation[run#8803,luminosityBlock#8804,event#8805L,CaloMET_phi#8806,CaloMET_pt#8807,CaloMET_sumEt#8808,nElectron#8809,Electron_deltaEtaSC#8810,Electron_dr03EcalRecHitSumEt#8811,Electron_dr03HcalDepth1TowerSumEt#8812,Electron_dr03TkSumPt#8813,Electron_dxy#8814,Electron_dxyErr#8815,Electron_dxyErr_ugo#8816,Electron_dxy_ugo#8817,Electron_dz#8818,Electron_dzErr#8819,Electron_eCorr#8820,Electron_eInvMinusPInv#8821,Electron_energyErr#8822,Electron_eta#8823,Electron_hoe#8824,Electron_ip3d#8825,Electron_ip3d_ugo#8826,... 934 more fields] org.dianahep.sparkroot.package$RootTableScan@687d8c39\\n                     :- Project [Jet_nMuons#17567, nMuon#17578, Muon_dxy#17579, Muon_dxyErr#17580, Muon_dxyErr_ugo#17581, Muon_dxy_ugo#17582, Muon_dz#17583, Muon_dzErr#17584, Muon_eta#17585, Muon_ip3d#17586, Muon_ip3d_ugo#17587, Muon_mass#17588, Muon_miniPFRelIso_all#17589, Muon_miniPFRelIso_chg#17590, Muon_pfRelIso03_all#17591, Muon_pfRelIso03_chg#17592, Muon_pfRelIso04_all#17593, Muon_phi#17594, Muon_pt#17595, Muon_ptErr#17596, Muon_segmentComp#17597, Muon_sip3d#17598, Muon_sip3d_ugo#17599, Muon_mvaTTH#17600, ... 21 more fields]\\n                     :  +- Project [Jet_nMuons#17567, nMuon#17578, Muon_dxy#17579, Muon_dxyErr#17580, Muon_dxyErr_ugo#17581, Muon_dxy_ugo#17582, Muon_dz#17583, Muon_dzErr#17584, Muon_eta#17585, Muon_ip3d#17586, Muon_ip3d_ugo#17587, Muon_mass#17588, Muon_miniPFRelIso_all#17589, Muon_miniPFRelIso_chg#17590, Muon_pfRelIso03_all#17591, Muon_pfRelIso03_chg#17592, Muon_pfRelIso04_all#17593, Muon_phi#17594, Muon_pt#17595, Muon_ptErr#17596, Muon_segmentComp#17597, Muon_sip3d#17598, Muon_sip3d_ugo#17599, Muon_mvaTTH#17600, ... 21 more fields]\\n                     :     +- Project [run#17471, luminosityBlock#17472, event#17473L, CaloMET_phi#17474, CaloMET_pt#17475, CaloMET_sumEt#17476, nElectron#17477, Electron_deltaEtaSC#17478, Electron_dr03EcalRecHitSumEt#17479, Electron_dr03HcalDepth1TowerSumEt#17480, Electron_dr03TkSumPt#17481, Electron_dxy#17482, Electron_dxyErr#17483, Electron_dxyErr_ugo#17484, Electron_dxy_ugo#17485, Electron_dz#17486, Electron_dzErr#17487, Electron_eCorr#17488, Electron_eInvMinusPInv#17489, Electron_energyErr#17490, Electron_eta#17491, Electron_hoe#17492, Electron_ip3d#17493, Electron_ip3d_ugo#17494, ... 845 more fields]\\n                     :        +- Project [run#17471, luminosityBlock#17472, event#17473L, CaloMET_phi#17474, CaloMET_pt#17475, CaloMET_sumEt#17476, nElectron#17477, Electron_deltaEtaSC#17478, Electron_dr03EcalRecHitSumEt#17479, Electron_dr03HcalDepth1TowerSumEt#17480, Electron_dr03TkSumPt#17481, Electron_dxy#17482, Electron_dxyErr#17483, Electron_dxyErr_ugo#17484, Electron_dxy_ugo#17485, Electron_dz#17486, Electron_dzErr#17487, Electron_eCorr#17488, Electron_eInvMinusPInv#17489, Electron_energyErr#17490, Electron_eta#17491, Electron_hoe#17492, Electron_ip3d#17493, Electron_ip3d_ugo#17494, ... 844 more fields]\\n                     :           +- Project [run#17471, luminosityBlock#17472, event#17473L, CaloMET_phi#17474, CaloMET_pt#17475, CaloMET_sumEt#17476, nElectron#17477, Electron_deltaEtaSC#17478, Electron_dr03EcalRecHitSumEt#17479, Electron_dr03HcalDepth1TowerSumEt#17480, Electron_dr03TkSumPt#17481, Electron_dxy#17482, Electron_dxyErr#17483, Electron_dxyErr_ugo#17484, Electron_dxy_ugo#17485, Electron_dz#17486, Electron_dzErr#17487, Electron_eCorr#17488, Electron_eInvMinusPInv#17489, Electron_energyErr#17490, Electron_eta#17491, Electron_hoe#17492, Electron_ip3d#17493, Electron_ip3d_ugo#17494, ... 843 more fields]\\n                     :              +- Project [run#17471, luminosityBlock#17472, event#17473L, CaloMET_phi#17474, CaloMET_pt#17475, CaloMET_sumEt#17476, nElectron#17477, Electron_deltaEtaSC#17478, Electron_dr03EcalRecHitSumEt#17479, Electron_dr03HcalDepth1TowerSumEt#17480, Electron_dr03TkSumPt#17481, Electron_dxy#17482, Electron_dxyErr#17483, Electron_dxyErr_ugo#17484, Electron_dxy_ugo#17485, Electron_dz#17486, Electron_dzErr#17487, Electron_eCorr#17488, Electron_eInvMinusPInv#17489, Electron_energyErr#17490, Electron_eta#17491, Electron_hoe#17492, Electron_ip3d#17493, Electron_ip3d_ugo#17494, ... 842 more fields]\\n                     :                 +- Project [run#17471, luminosityBlock#17472, event#17473L, CaloMET_phi#17474, CaloMET_pt#17475, CaloMET_sumEt#17476, nElectron#17477, Electron_deltaEtaSC#17478, Electron_dr03EcalRecHitSumEt#17479, Electron_dr03HcalDepth1TowerSumEt#17480, Electron_dr03TkSumPt#17481, Electron_dxy#17482, Electron_dxyErr#17483, Electron_dxyErr_ugo#17484, Electron_dxy_ugo#17485, Electron_dz#17486, Electron_dzErr#17487, Electron_eCorr#17488, Electron_eInvMinusPInv#17489, Electron_energyErr#17490, Electron_eta#17491, Electron_hoe#17492, Electron_ip3d#17493, Electron_ip3d_ugo#17494, ... 841 more fields]\\n                     :                    +- Project [run#17471, luminosityBlock#17472, event#17473L, CaloMET_phi#17474, CaloMET_pt#17475, CaloMET_sumEt#17476, nElectron#17477, Electron_deltaEtaSC#17478, Electron_dr03EcalRecHitSumEt#17479, Electron_dr03HcalDepth1TowerSumEt#17480, Electron_dr03TkSumPt#17481, Electron_dxy#17482, Electron_dxyErr#17483, Electron_dxyErr_ugo#17484, Electron_dxy_ugo#17485, Electron_dz#17486, Electron_dzErr#17487, Electron_eCorr#17488, Electron_eInvMinusPInv#17489, Electron_energyErr#17490, Electron_eta#17491, Electron_hoe#17492, Electron_ip3d#17493, Electron_ip3d_ugo#17494, ... 840 more fields]\\n                     :                       +- Relation[run#17471,luminosityBlock#17472,event#17473L,CaloMET_phi#17474,CaloMET_pt#17475,CaloMET_sumEt#17476,nElectron#17477,Electron_deltaEtaSC#17478,Electron_dr03EcalRecHitSumEt#17479,Electron_dr03HcalDepth1TowerSumEt#17480,Electron_dr03TkSumPt#17481,Electron_dxy#17482,Electron_dxyErr#17483,Electron_dxyErr_ugo#17484,Electron_dxy_ugo#17485,Electron_dz#17486,Electron_dzErr#17487,Electron_eCorr#17488,Electron_eInvMinusPInv#17489,Electron_energyErr#17490,Electron_eta#17491,Electron_hoe#17492,Electron_ip3d#17493,Electron_ip3d_ugo#17494,... 839 more fields] org.dianahep.sparkroot.package$RootTableScan@75142002\\n                     :- Project [Jet_nMuons#25415, nMuon#25428, Muon_dxy#25429, Muon_dxyErr#25430, Muon_dxyErr_ugo#25431, Muon_dxy_ugo#25432, Muon_dz#25433, Muon_dzErr#25434, Muon_eta#25435, Muon_ip3d#25436, Muon_ip3d_ugo#25437, Muon_mass#25438, Muon_miniPFRelIso_all#25439, Muon_miniPFRelIso_chg#25440, Muon_pfRelIso03_all#25441, Muon_pfRelIso03_chg#25442, Muon_pfRelIso04_all#25443, Muon_phi#25444, Muon_pt#25445, Muon_ptErr#25446, Muon_segmentComp#25447, Muon_sip3d#25448, Muon_sip3d_ugo#25449, Muon_mvaTTH#25450, ... 21 more fields]\\n                     :  +- Project [run#25284, luminosityBlock#25285, event#25286L, CaloMET_phi#25287, CaloMET_pt#25288, CaloMET_sumEt#25289, nElectron#25290, Electron_deltaEtaSC#25291, Electron_dr03EcalRecHitSumEt#25292, Electron_dr03HcalDepth1TowerSumEt#25293, Electron_dr03TkSumPt#25294, Electron_dxy#25295, Electron_dxyErr#25296, Electron_dxyErr_ugo#25297, Electron_dxy_ugo#25298, Electron_dz#25299, Electron_dzErr#25300, Electron_eCorr#25301, Electron_eInvMinusPInv#25302, Electron_energyErr#25303, Electron_eta#25304, Electron_hoe#25305, Electron_ip3d#25306, Electron_ip3d_ugo#25307, ... 940 more fields]\\n                     :     +- Project [run#25284, luminosityBlock#25285, event#25286L, CaloMET_phi#25287, CaloMET_pt#25288, CaloMET_sumEt#25289, nElectron#25290, Electron_deltaEtaSC#25291, Electron_dr03EcalRecHitSumEt#25292, Electron_dr03HcalDepth1TowerSumEt#25293, Electron_dr03TkSumPt#25294, Electron_dxy#25295, Electron_dxyErr#25296, Electron_dxyErr_ugo#25297, Electron_dxy_ugo#25298, Electron_dz#25299, Electron_dzErr#25300, Electron_eCorr#25301, Electron_eInvMinusPInv#25302, Electron_energyErr#25303, Electron_eta#25304, Electron_hoe#25305, Electron_ip3d#25306, Electron_ip3d_ugo#25307, ... 939 more fields]\\n                     :        +- Project [run#25284, luminosityBlock#25285, event#25286L, CaloMET_phi#25287, CaloMET_pt#25288, CaloMET_sumEt#25289, nElectron#25290, Electron_deltaEtaSC#25291, Electron_dr03EcalRecHitSumEt#25292, Electron_dr03HcalDepth1TowerSumEt#25293, Electron_dr03TkSumPt#25294, Electron_dxy#25295, Electron_dxyErr#25296, Electron_dxyErr_ugo#25297, Electron_dxy_ugo#25298, Electron_dz#25299, Electron_dzErr#25300, Electron_eCorr#25301, Electron_eInvMinusPInv#25302, Electron_energyErr#25303, Electron_eta#25304, Electron_hoe#25305, Electron_ip3d#25306, Electron_ip3d_ugo#25307, ... 938 more fields]\\n                     :           +- Project [run#25284, luminosityBlock#25285, event#25286L, CaloMET_phi#25287, CaloMET_pt#25288, CaloMET_sumEt#25289, nElectron#25290, Electron_deltaEtaSC#25291, Electron_dr03EcalRecHitSumEt#25292, Electron_dr03HcalDepth1TowerSumEt#25293, Electron_dr03TkSumPt#25294, Electron_dxy#25295, Electron_dxyErr#25296, Electron_dxyErr_ugo#25297, Electron_dxy_ugo#25298, Electron_dz#25299, Electron_dzErr#25300, Electron_eCorr#25301, Electron_eInvMinusPInv#25302, Electron_energyErr#25303, Electron_eta#25304, Electron_hoe#25305, Electron_ip3d#25306, Electron_ip3d_ugo#25307, ... 937 more fields]\\n                     :              +- Project [run#25284, luminosityBlock#25285, event#25286L, CaloMET_phi#25287, CaloMET_pt#25288, CaloMET_sumEt#25289, nElectron#25290, Electron_deltaEtaSC#25291, Electron_dr03EcalRecHitSumEt#25292, Electron_dr03HcalDepth1TowerSumEt#25293, Electron_dr03TkSumPt#25294, Electron_dxy#25295, Electron_dxyErr#25296, Electron_dxyErr_ugo#25297, Electron_dxy_ugo#25298, Electron_dz#25299, Electron_dzErr#25300, Electron_eCorr#25301, Electron_eInvMinusPInv#25302, Electron_energyErr#25303, Electron_eta#25304, Electron_hoe#25305, Electron_ip3d#25306, Electron_ip3d_ugo#25307, ... 936 more fields]\\n                     :                 +- Project [run#25284, luminosityBlock#25285, event#25286L, CaloMET_phi#25287, CaloMET_pt#25288, CaloMET_sumEt#25289, nElectron#25290, Electron_deltaEtaSC#25291, Electron_dr03EcalRecHitSumEt#25292, Electron_dr03HcalDepth1TowerSumEt#25293, Electron_dr03TkSumPt#25294, Electron_dxy#25295, Electron_dxyErr#25296, Electron_dxyErr_ugo#25297, Electron_dxy_ugo#25298, Electron_dz#25299, Electron_dzErr#25300, Electron_eCorr#25301, Electron_eInvMinusPInv#25302, Electron_energyErr#25303, Electron_eta#25304, Electron_hoe#25305, Electron_ip3d#25306, Electron_ip3d_ugo#25307, ... 935 more fields]\\n                     :                    +- Relation[run#25284,luminosityBlock#25285,event#25286L,CaloMET_phi#25287,CaloMET_pt#25288,CaloMET_sumEt#25289,nElectron#25290,Electron_deltaEtaSC#25291,Electron_dr03EcalRecHitSumEt#25292,Electron_dr03HcalDepth1TowerSumEt#25293,Electron_dr03TkSumPt#25294,Electron_dxy#25295,Electron_dxyErr#25296,Electron_dxyErr_ugo#25297,Electron_dxy_ugo#25298,Electron_dz#25299,Electron_dzErr#25300,Electron_eCorr#25301,Electron_eInvMinusPInv#25302,Electron_energyErr#25303,Electron_eta#25304,Electron_hoe#25305,Electron_ip3d#25306,Electron_ip3d_ugo#25307,... 934 more fields] org.dianahep.sparkroot.package$RootTableScan@6cea9ffc\\n                     :- Project [Jet_nMuons#34088, nMuon#34111, Muon_dxy#34112, Muon_dxyErr#34113, Muon_dxyErr_ugo#34114, Muon_dxy_ugo#34115, Muon_dz#34116, Muon_dzErr#34117, Muon_eta#34118, Muon_ip3d#34119, Muon_ip3d_ugo#34120, Muon_mass#34121, Muon_miniPFRelIso_all#34122, Muon_miniPFRelIso_chg#34123, Muon_pfRelIso03_all#34124, Muon_pfRelIso03_chg#34125, Muon_pfRelIso04_all#34126, Muon_phi#34127, Muon_pt#34128, Muon_ptErr#34129, Muon_segmentComp#34130, Muon_sip3d#34131, Muon_sip3d_ugo#34132, Muon_mvaTTH#34133, ... 21 more fields]\\n                     :  +- Project [run#33952, luminosityBlock#33953, event#33954L, CaloMET_phi#33955, CaloMET_pt#33956, CaloMET_sumEt#33957, nElectron#33958, Electron_deltaEtaSC#33959, Electron_dr03EcalRecHitSumEt#33960, Electron_dr03HcalDepth1TowerSumEt#33961, Electron_dr03TkSumPt#33962, Electron_dxy#33963, Electron_dxyErr#33964, Electron_dxyErr_ugo#33965, Electron_dxy_ugo#33966, Electron_dz#33967, Electron_dzErr#33968, Electron_eCorr#33969, Electron_eInvMinusPInv#33970, Electron_energyErr#33971, Electron_eta#33972, Electron_hoe#33973, Electron_ip3d#33974, Electron_ip3d_ugo#33975, ... 955 more fields]\\n                     :     +- Project [run#33952, luminosityBlock#33953, event#33954L, CaloMET_phi#33955, CaloMET_pt#33956, CaloMET_sumEt#33957, nElectron#33958, Electron_deltaEtaSC#33959, Electron_dr03EcalRecHitSumEt#33960, Electron_dr03HcalDepth1TowerSumEt#33961, Electron_dr03TkSumPt#33962, Electron_dxy#33963, Electron_dxyErr#33964, Electron_dxyErr_ugo#33965, Electron_dxy_ugo#33966, Electron_dz#33967, Electron_dzErr#33968, Electron_eCorr#33969, Electron_eInvMinusPInv#33970, Electron_energyErr#33971, Electron_eta#33972, Electron_hoe#33973, Electron_ip3d#33974, Electron_ip3d_ugo#33975, ... 954 more fields]\\n                     :        +- Project [run#33952, luminosityBlock#33953, event#33954L, CaloMET_phi#33955, CaloMET_pt#33956, CaloMET_sumEt#33957, nElectron#33958, Electron_deltaEtaSC#33959, Electron_dr03EcalRecHitSumEt#33960, Electron_dr03HcalDepth1TowerSumEt#33961, Electron_dr03TkSumPt#33962, Electron_dxy#33963, Electron_dxyErr#33964, Electron_dxyErr_ugo#33965, Electron_dxy_ugo#33966, Electron_dz#33967, Electron_dzErr#33968, Electron_eCorr#33969, Electron_eInvMinusPInv#33970, Electron_energyErr#33971, Electron_eta#33972, Electron_hoe#33973, Electron_ip3d#33974, Electron_ip3d_ugo#33975, ... 953 more fields]\\n                     :           +- Project [run#33952, luminosityBlock#33953, event#33954L, CaloMET_phi#33955, CaloMET_pt#33956, CaloMET_sumEt#33957, nElectron#33958, Electron_deltaEtaSC#33959, Electron_dr03EcalRecHitSumEt#33960, Electron_dr03HcalDepth1TowerSumEt#33961, Electron_dr03TkSumPt#33962, Electron_dxy#33963, Electron_dxyErr#33964, Electron_dxyErr_ugo#33965, Electron_dxy_ugo#33966, Electron_dz#33967, Electron_dzErr#33968, Electron_eCorr#33969, Electron_eInvMinusPInv#33970, Electron_energyErr#33971, Electron_eta#33972, Electron_hoe#33973, Electron_ip3d#33974, Electron_ip3d_ugo#33975, ... 952 more fields]\\n                     :              +- Project [run#33952, luminosityBlock#33953, event#33954L, CaloMET_phi#33955, CaloMET_pt#33956, CaloMET_sumEt#33957, nElectron#33958, Electron_deltaEtaSC#33959, Electron_dr03EcalRecHitSumEt#33960, Electron_dr03HcalDepth1TowerSumEt#33961, Electron_dr03TkSumPt#33962, Electron_dxy#33963, Electron_dxyErr#33964, Electron_dxyErr_ugo#33965, Electron_dxy_ugo#33966, Electron_dz#33967, Electron_dzErr#33968, Electron_eCorr#33969, Electron_eInvMinusPInv#33970, Electron_energyErr#33971, Electron_eta#33972, Electron_hoe#33973, Electron_ip3d#33974, Electron_ip3d_ugo#33975, ... 951 more fields]\\n                     :                 +- Project [run#33952, luminosityBlock#33953, event#33954L, CaloMET_phi#33955, CaloMET_pt#33956, CaloMET_sumEt#33957, nElectron#33958, Electron_deltaEtaSC#33959, Electron_dr03EcalRecHitSumEt#33960, Electron_dr03HcalDepth1TowerSumEt#33961, Electron_dr03TkSumPt#33962, Electron_dxy#33963, Electron_dxyErr#33964, Electron_dxyErr_ugo#33965, Electron_dxy_ugo#33966, Electron_dz#33967, Electron_dzErr#33968, Electron_eCorr#33969, Electron_eInvMinusPInv#33970, Electron_energyErr#33971, Electron_eta#33972, Electron_hoe#33973, Electron_ip3d#33974, Electron_ip3d_ugo#33975, ... 950 more fields]\\n                     :                    +- Relation[run#33952,luminosityBlock#33953,event#33954L,CaloMET_phi#33955,CaloMET_pt#33956,CaloMET_sumEt#33957,nElectron#33958,Electron_deltaEtaSC#33959,Electron_dr03EcalRecHitSumEt#33960,Electron_dr03HcalDepth1TowerSumEt#33961,Electron_dr03TkSumPt#33962,Electron_dxy#33963,Electron_dxyErr#33964,Electron_dxyErr_ugo#33965,Electron_dxy_ugo#33966,Electron_dz#33967,Electron_dzErr#33968,Electron_eCorr#33969,Electron_eInvMinusPInv#33970,Electron_energyErr#33971,Electron_eta#33972,Electron_hoe#33973,Electron_ip3d#33974,Electron_ip3d_ugo#33975,... 949 more fields] org.dianahep.sparkroot.package$RootTableScan@5e51d594\\n                     +- Project [Jet_nMuons#42886, nMuon#42899, Muon_dxy#42900, Muon_dxyErr#42901, Muon_dxyErr_ugo#42902, Muon_dxy_ugo#42903, Muon_dz#42904, Muon_dzErr#42905, Muon_eta#42906, Muon_ip3d#42907, Muon_ip3d_ugo#42908, Muon_mass#42909, Muon_miniPFRelIso_all#42910, Muon_miniPFRelIso_chg#42911, Muon_pfRelIso03_all#42912, Muon_pfRelIso03_chg#42913, Muon_pfRelIso04_all#42914, Muon_phi#42915, Muon_pt#42916, Muon_ptErr#42917, Muon_segmentComp#42918, Muon_sip3d#42919, Muon_sip3d_ugo#42920, Muon_mvaTTH#42921, ... 21 more fields]\\n                        +- Project [run#42755, luminosityBlock#42756, event#42757L, CaloMET_phi#42758, CaloMET_pt#42759, CaloMET_sumEt#42760, nElectron#42761, Electron_deltaEtaSC#42762, Electron_dr03EcalRecHitSumEt#42763, Electron_dr03HcalDepth1TowerSumEt#42764, Electron_dr03TkSumPt#42765, Electron_dxy#42766, Electron_dxyErr#42767, Electron_dxyErr_ugo#42768, Electron_dxy_ugo#42769, Electron_dz#42770, Electron_dzErr#42771, Electron_eCorr#42772, Electron_eInvMinusPInv#42773, Electron_energyErr#42774, Electron_eta#42775, Electron_hoe#42776, Electron_ip3d#42777, Electron_ip3d_ugo#42778, ... 940 more fields]\\n                           +- Project [run#42755, luminosityBlock#42756, event#42757L, CaloMET_phi#42758, CaloMET_pt#42759, CaloMET_sumEt#42760, nElectron#42761, Electron_deltaEtaSC#42762, Electron_dr03EcalRecHitSumEt#42763, Electron_dr03HcalDepth1TowerSumEt#42764, Electron_dr03TkSumPt#42765, Electron_dxy#42766, Electron_dxyErr#42767, Electron_dxyErr_ugo#42768, Electron_dxy_ugo#42769, Electron_dz#42770, Electron_dzErr#42771, Electron_eCorr#42772, Electron_eInvMinusPInv#42773, Electron_energyErr#42774, Electron_eta#42775, Electron_hoe#42776, Electron_ip3d#42777, Electron_ip3d_ugo#42778, ... 939 more fields]\\n                              +- Project [run#42755, luminosityBlock#42756, event#42757L, CaloMET_phi#42758, CaloMET_pt#42759, CaloMET_sumEt#42760, nElectron#42761, Electron_deltaEtaSC#42762, Electron_dr03EcalRecHitSumEt#42763, Electron_dr03HcalDepth1TowerSumEt#42764, Electron_dr03TkSumPt#42765, Electron_dxy#42766, Electron_dxyErr#42767, Electron_dxyErr_ugo#42768, Electron_dxy_ugo#42769, Electron_dz#42770, Electron_dzErr#42771, Electron_eCorr#42772, Electron_eInvMinusPInv#42773, Electron_energyErr#42774, Electron_eta#42775, Electron_hoe#42776, Electron_ip3d#42777, Electron_ip3d_ugo#42778, ... 938 more fields]\\n                                 +- Project [run#42755, luminosityBlock#42756, event#42757L, CaloMET_phi#42758, CaloMET_pt#42759, CaloMET_sumEt#42760, nElectron#42761, Electron_deltaEtaSC#42762, Electron_dr03EcalRecHitSumEt#42763, Electron_dr03HcalDepth1TowerSumEt#42764, Electron_dr03TkSumPt#42765, Electron_dxy#42766, Electron_dxyErr#42767, Electron_dxyErr_ugo#42768, Electron_dxy_ugo#42769, Electron_dz#42770, Electron_dzErr#42771, Electron_eCorr#42772, Electron_eInvMinusPInv#42773, Electron_energyErr#42774, Electron_eta#42775, Electron_hoe#42776, Electron_ip3d#42777, Electron_ip3d_ugo#42778, ... 937 more fields]\\n                                    +- Project [run#42755, luminosityBlock#42756, event#42757L, CaloMET_phi#42758, CaloMET_pt#42759, CaloMET_sumEt#42760, nElectron#42761, Electron_deltaEtaSC#42762, Electron_dr03EcalRecHitSumEt#42763, Electron_dr03HcalDepth1TowerSumEt#42764, Electron_dr03TkSumPt#42765, Electron_dxy#42766, Electron_dxyErr#42767, Electron_dxyErr_ugo#42768, Electron_dxy_ugo#42769, Electron_dz#42770, Electron_dzErr#42771, Electron_eCorr#42772, Electron_eInvMinusPInv#42773, Electron_energyErr#42774, Electron_eta#42775, Electron_hoe#42776, Electron_ip3d#42777, Electron_ip3d_ugo#42778, ... 936 more fields]\\n                                       +- Project [run#42755, luminosityBlock#42756, event#42757L, CaloMET_phi#42758, CaloMET_pt#42759, CaloMET_sumEt#42760, nElectron#42761, Electron_deltaEtaSC#42762, Electron_dr03EcalRecHitSumEt#42763, Electron_dr03HcalDepth1TowerSumEt#42764, Electron_dr03TkSumPt#42765, Electron_dxy#42766, Electron_dxyErr#42767, Electron_dxyErr_ugo#42768, Electron_dxy_ugo#42769, Electron_dz#42770, Electron_dzErr#42771, Electron_eCorr#42772, Electron_eInvMinusPInv#42773, Electron_energyErr#42774, Electron_eta#42775, Electron_hoe#42776, Electron_ip3d#42777, Electron_ip3d_ugo#42778, ... 935 more fields]\\n                                          +- Relation[run#42755,luminosityBlock#42756,event#42757L,CaloMET_phi#42758,CaloMET_pt#42759,CaloMET_sumEt#42760,nElectron#42761,Electron_deltaEtaSC#42762,Electron_dr03EcalRecHitSumEt#42763,Electron_dr03HcalDepth1TowerSumEt#42764,Electron_dr03TkSumPt#42765,Electron_dxy#42766,Electron_dxyErr#42767,Electron_dxyErr_ugo#42768,Electron_dxy_ugo#42769,Electron_dz#42770,Electron_dzErr#42771,Electron_eCorr#42772,Electron_eInvMinusPInv#42773,Electron_energyErr#42774,Electron_eta#42775,Electron_hoe#42776,Electron_ip3d#42777,Electron_ip3d_ugo#42778,... 934 more fields] org.dianahep.sparkroot.package$RootTableScan@69f232b9\\n\"",
     "output_type": "error",
     "traceback": [
      "\u001b[0;31m---------------------------------------------------------------------------\u001b[0m",
      "\u001b[0;31mAnalysisException\u001b[0m                         Traceback (most recent call last)",
      "\u001b[0;32m<ipython-input-9-291234488282>\u001b[0m in \u001b[0;36m<module>\u001b[0;34m()\u001b[0m\n\u001b[1;32m      4\u001b[0m \u001b[0;32mimport\u001b[0m \u001b[0mnumpy\u001b[0m \u001b[0;32mas\u001b[0m \u001b[0mnp\u001b[0m\u001b[0;34m\u001b[0m\u001b[0m\n\u001b[1;32m      5\u001b[0m \u001b[0;34m\u001b[0m\u001b[0m\n\u001b[0;32m----> 6\u001b[0;31m \u001b[0mTTDF\u001b[0m \u001b[0;34m=\u001b[0m \u001b[0mnp\u001b[0m\u001b[0;34m.\u001b[0m\u001b[0marray\u001b[0m\u001b[0;34m(\u001b[0m\u001b[0mDF\u001b[0m\u001b[0;34m.\u001b[0m\u001b[0mfilter\u001b[0m\u001b[0;34m(\u001b[0m\u001b[0mDF\u001b[0m\u001b[0;34m.\u001b[0m\u001b[0mproc_sample\u001b[0m\u001b[0;34m.\u001b[0m\u001b[0mlike\u001b[0m\u001b[0;34m(\u001b[0m\u001b[0;34m\"TT\"\u001b[0m\u001b[0;34m)\u001b[0m\u001b[0;34m)\u001b[0m\u001b[0;34m.\u001b[0m\u001b[0mselect\u001b[0m\u001b[0;34m(\u001b[0m\u001b[0;34m'mll'\u001b[0m\u001b[0;34m)\u001b[0m\u001b[0;34m.\u001b[0m\u001b[0mselect\u001b[0m\u001b[0;34m(\u001b[0m\u001b[0;34m'weight'\u001b[0m\u001b[0;34m)\u001b[0m\u001b[0;34m.\u001b[0m\u001b[0mcollect\u001b[0m\u001b[0;34m(\u001b[0m\u001b[0;34m)\u001b[0m\u001b[0;34m)\u001b[0m\u001b[0;34m.\u001b[0m\u001b[0mflatten\u001b[0m\u001b[0;34m(\u001b[0m\u001b[0;34m)\u001b[0m\u001b[0;34m\u001b[0m\u001b[0m\n\u001b[0m\u001b[1;32m      7\u001b[0m \u001b[0mDYDF\u001b[0m \u001b[0;34m=\u001b[0m \u001b[0mnp\u001b[0m\u001b[0;34m.\u001b[0m\u001b[0marray\u001b[0m\u001b[0;34m(\u001b[0m\u001b[0mDF\u001b[0m\u001b[0;34m.\u001b[0m\u001b[0mfilter\u001b[0m\u001b[0;34m(\u001b[0m\u001b[0mDF\u001b[0m\u001b[0;34m.\u001b[0m\u001b[0mproc_sample\u001b[0m\u001b[0;34m.\u001b[0m\u001b[0mlike\u001b[0m\u001b[0;34m(\u001b[0m\u001b[0;34m\"DYJetsToLL\"\u001b[0m\u001b[0;34m)\u001b[0m\u001b[0;34m)\u001b[0m\u001b[0;34m.\u001b[0m\u001b[0mselect\u001b[0m\u001b[0;34m(\u001b[0m\u001b[0;34m'mll'\u001b[0m\u001b[0;34m)\u001b[0m\u001b[0;34m.\u001b[0m\u001b[0mselect\u001b[0m\u001b[0;34m(\u001b[0m\u001b[0;34m'weight'\u001b[0m\u001b[0;34m)\u001b[0m\u001b[0;34m.\u001b[0m\u001b[0mcollect\u001b[0m\u001b[0;34m(\u001b[0m\u001b[0;34m)\u001b[0m\u001b[0;34m)\u001b[0m\u001b[0;34m.\u001b[0m\u001b[0mflatten\u001b[0m\u001b[0;34m(\u001b[0m\u001b[0;34m)\u001b[0m\u001b[0;34m\u001b[0m\u001b[0m\n\u001b[1;32m      8\u001b[0m \u001b[0mZZDF\u001b[0m \u001b[0;34m=\u001b[0m \u001b[0mnp\u001b[0m\u001b[0;34m.\u001b[0m\u001b[0marray\u001b[0m\u001b[0;34m(\u001b[0m\u001b[0mDF\u001b[0m\u001b[0;34m.\u001b[0m\u001b[0mfilter\u001b[0m\u001b[0;34m(\u001b[0m\u001b[0mDF\u001b[0m\u001b[0;34m.\u001b[0m\u001b[0mproc_sample\u001b[0m\u001b[0;34m.\u001b[0m\u001b[0mlike\u001b[0m\u001b[0;34m(\u001b[0m\u001b[0;34m\"ZZ\"\u001b[0m\u001b[0;34m)\u001b[0m\u001b[0;34m)\u001b[0m\u001b[0;34m.\u001b[0m\u001b[0mselect\u001b[0m\u001b[0;34m(\u001b[0m\u001b[0;34m'mll'\u001b[0m\u001b[0;34m)\u001b[0m\u001b[0;34m.\u001b[0m\u001b[0mselect\u001b[0m\u001b[0;34m(\u001b[0m\u001b[0;34m'weight'\u001b[0m\u001b[0;34m)\u001b[0m\u001b[0;34m.\u001b[0m\u001b[0mcollect\u001b[0m\u001b[0;34m(\u001b[0m\u001b[0;34m)\u001b[0m\u001b[0;34m)\u001b[0m\u001b[0;34m.\u001b[0m\u001b[0mflatten\u001b[0m\u001b[0;34m(\u001b[0m\u001b[0;34m)\u001b[0m\u001b[0;34m\u001b[0m\u001b[0m\n",
      "\u001b[0;32m/opt/spark-2.1.1-bin-hadoop2.7/python/pyspark/sql/dataframe.pyc\u001b[0m in \u001b[0;36mselect\u001b[0;34m(self, *cols)\u001b[0m\n\u001b[1;32m    991\u001b[0m         \u001b[0;34m[\u001b[0m\u001b[0mRow\u001b[0m\u001b[0;34m(\u001b[0m\u001b[0mname\u001b[0m\u001b[0;34m=\u001b[0m\u001b[0;34mu'Alice'\u001b[0m\u001b[0;34m,\u001b[0m \u001b[0mage\u001b[0m\u001b[0;34m=\u001b[0m\u001b[0;36m12\u001b[0m\u001b[0;34m)\u001b[0m\u001b[0;34m,\u001b[0m \u001b[0mRow\u001b[0m\u001b[0;34m(\u001b[0m\u001b[0mname\u001b[0m\u001b[0;34m=\u001b[0m\u001b[0;34mu'Bob'\u001b[0m\u001b[0;34m,\u001b[0m \u001b[0mage\u001b[0m\u001b[0;34m=\u001b[0m\u001b[0;36m15\u001b[0m\u001b[0;34m)\u001b[0m\u001b[0;34m]\u001b[0m\u001b[0;34m\u001b[0m\u001b[0m\n\u001b[1;32m    992\u001b[0m         \"\"\"\n\u001b[0;32m--> 993\u001b[0;31m         \u001b[0mjdf\u001b[0m \u001b[0;34m=\u001b[0m \u001b[0mself\u001b[0m\u001b[0;34m.\u001b[0m\u001b[0m_jdf\u001b[0m\u001b[0;34m.\u001b[0m\u001b[0mselect\u001b[0m\u001b[0;34m(\u001b[0m\u001b[0mself\u001b[0m\u001b[0;34m.\u001b[0m\u001b[0m_jcols\u001b[0m\u001b[0;34m(\u001b[0m\u001b[0;34m*\u001b[0m\u001b[0mcols\u001b[0m\u001b[0;34m)\u001b[0m\u001b[0;34m)\u001b[0m\u001b[0;34m\u001b[0m\u001b[0m\n\u001b[0m\u001b[1;32m    994\u001b[0m         \u001b[0;32mreturn\u001b[0m \u001b[0mDataFrame\u001b[0m\u001b[0;34m(\u001b[0m\u001b[0mjdf\u001b[0m\u001b[0;34m,\u001b[0m \u001b[0mself\u001b[0m\u001b[0;34m.\u001b[0m\u001b[0msql_ctx\u001b[0m\u001b[0;34m)\u001b[0m\u001b[0;34m\u001b[0m\u001b[0m\n\u001b[1;32m    995\u001b[0m \u001b[0;34m\u001b[0m\u001b[0m\n",
      "\u001b[0;32m/usr/lib/python2.7/site-packages/py4j/java_gateway.pyc\u001b[0m in \u001b[0;36m__call__\u001b[0;34m(self, *args)\u001b[0m\n\u001b[1;32m   1152\u001b[0m         \u001b[0manswer\u001b[0m \u001b[0;34m=\u001b[0m \u001b[0mself\u001b[0m\u001b[0;34m.\u001b[0m\u001b[0mgateway_client\u001b[0m\u001b[0;34m.\u001b[0m\u001b[0msend_command\u001b[0m\u001b[0;34m(\u001b[0m\u001b[0mcommand\u001b[0m\u001b[0;34m)\u001b[0m\u001b[0;34m\u001b[0m\u001b[0m\n\u001b[1;32m   1153\u001b[0m         return_value = get_return_value(\n\u001b[0;32m-> 1154\u001b[0;31m             answer, self.gateway_client, self.target_id, self.name)\n\u001b[0m\u001b[1;32m   1155\u001b[0m \u001b[0;34m\u001b[0m\u001b[0m\n\u001b[1;32m   1156\u001b[0m         \u001b[0;32mfor\u001b[0m \u001b[0mtemp_arg\u001b[0m \u001b[0;32min\u001b[0m \u001b[0mtemp_args\u001b[0m\u001b[0;34m:\u001b[0m\u001b[0;34m\u001b[0m\u001b[0m\n",
      "\u001b[0;32m/opt/spark-2.1.1-bin-hadoop2.7/python/pyspark/sql/utils.pyc\u001b[0m in \u001b[0;36mdeco\u001b[0;34m(*a, **kw)\u001b[0m\n\u001b[1;32m     67\u001b[0m                                              e.java_exception.getStackTrace()))\n\u001b[1;32m     68\u001b[0m             \u001b[0;32mif\u001b[0m \u001b[0ms\u001b[0m\u001b[0;34m.\u001b[0m\u001b[0mstartswith\u001b[0m\u001b[0;34m(\u001b[0m\u001b[0;34m'org.apache.spark.sql.AnalysisException: '\u001b[0m\u001b[0;34m)\u001b[0m\u001b[0;34m:\u001b[0m\u001b[0;34m\u001b[0m\u001b[0m\n\u001b[0;32m---> 69\u001b[0;31m                 \u001b[0;32mraise\u001b[0m \u001b[0mAnalysisException\u001b[0m\u001b[0;34m(\u001b[0m\u001b[0ms\u001b[0m\u001b[0;34m.\u001b[0m\u001b[0msplit\u001b[0m\u001b[0;34m(\u001b[0m\u001b[0;34m': '\u001b[0m\u001b[0;34m,\u001b[0m \u001b[0;36m1\u001b[0m\u001b[0;34m)\u001b[0m\u001b[0;34m[\u001b[0m\u001b[0;36m1\u001b[0m\u001b[0;34m]\u001b[0m\u001b[0;34m,\u001b[0m \u001b[0mstackTrace\u001b[0m\u001b[0;34m)\u001b[0m\u001b[0;34m\u001b[0m\u001b[0m\n\u001b[0m\u001b[1;32m     70\u001b[0m             \u001b[0;32mif\u001b[0m \u001b[0ms\u001b[0m\u001b[0;34m.\u001b[0m\u001b[0mstartswith\u001b[0m\u001b[0;34m(\u001b[0m\u001b[0;34m'org.apache.spark.sql.catalyst.analysis'\u001b[0m\u001b[0;34m)\u001b[0m\u001b[0;34m:\u001b[0m\u001b[0;34m\u001b[0m\u001b[0m\n\u001b[1;32m     71\u001b[0m                 \u001b[0;32mraise\u001b[0m \u001b[0mAnalysisException\u001b[0m\u001b[0;34m(\u001b[0m\u001b[0ms\u001b[0m\u001b[0;34m.\u001b[0m\u001b[0msplit\u001b[0m\u001b[0;34m(\u001b[0m\u001b[0;34m': '\u001b[0m\u001b[0;34m,\u001b[0m \u001b[0;36m1\u001b[0m\u001b[0;34m)\u001b[0m\u001b[0;34m[\u001b[0m\u001b[0;36m1\u001b[0m\u001b[0;34m]\u001b[0m\u001b[0;34m,\u001b[0m \u001b[0mstackTrace\u001b[0m\u001b[0;34m)\u001b[0m\u001b[0;34m\u001b[0m\u001b[0m\n",
      "\u001b[0;31mAnalysisException\u001b[0m: u\"cannot resolve '`mll`' given input columns: [proc_kfactor, Muon_pt, Jet_nMuons, proc_eff, proc_weight, Muon_miniPFRelIso_chg, Muon_pfRelIso03_chg, HLT_QuadMuon0_Dimuon0_Upsilon, Muon_nStations, nMuon, Muon_highPtId, Muon_sip3d, Muon_mass, Muon_sip3d_ugo, Muon_miniPFRelIso_all, Muon_jetIdx, Muon_isPFcand, Muon_charge, Muon_dxyErr, Muon_ip3d_ugo, Muon_dzErr, Muon_nTrackerLayers, HLT_QuadMuon0_Dimuon0_Jpsi, proc_sample, Muon_pfRelIso04_all, HLT_Dimuon0_Upsilon_Muon, Muon_tightCharge, Muon_eta, Muon_mvaTTH, Muon_ptErr, Muon_tightId, Muon_dxyErr_ugo, Muon_segmentComp, Muon_mediumId, Muon_cleanmask, Muon_dxy, proc_xsec, Muon_ip3d, Muon_softId, HLT_Dimuon0_Jpsi_Muon, Muon_phi, Muon_pfRelIso03_all, Muon_pdgId, Muon_dxy_ugo, Muon_dz];;\\n'Project ['mll]\\n+- Filter proc_sample#5857 LIKE TT\\n   +- Filter (cast(Muon_pfRelIso04_all#174[0] as double) < cast(0.5 as double))\\n      +- Filter (cast(Muon_pt#176[0] as double) > cast(25.0 as double))\\n         +- Filter (nMuon#159 > 1)\\n            +- Filter (cast(Muon_pfRelIso04_all#174[0] as double) < cast(0.12 as double))\\n               +- Filter (cast(Muon_pt#176[0] as double) > cast(10.0 as double))\\n                  +- Union\\n                     :- Project [Jet_nMuons#136, nMuon#159, Muon_dxy#160, Muon_dxyErr#161, Muon_dxyErr_ugo#162, Muon_dxy_ugo#163, Muon_dz#164, Muon_dzErr#165, Muon_eta#166, Muon_ip3d#167, Muon_ip3d_ugo#168, Muon_mass#169, Muon_miniPFRelIso_all#170, Muon_miniPFRelIso_chg#171, Muon_pfRelIso03_all#172, Muon_pfRelIso03_chg#173, Muon_pfRelIso04_all#174, Muon_phi#175, Muon_pt#176, Muon_ptErr#177, Muon_segmentComp#178, Muon_sip3d#179, Muon_sip3d_ugo#180, Muon_mvaTTH#181, ... 21 more fields]\\n                     :  +- Project [Jet_nMuons#136, nMuon#159, Muon_dxy#160, Muon_dxyErr#161, Muon_dxyErr_ugo#162, Muon_dxy_ugo#163, Muon_dz#164, Muon_dzErr#165, Muon_eta#166, Muon_ip3d#167, Muon_ip3d_ugo#168, Muon_mass#169, Muon_miniPFRelIso_all#170, Muon_miniPFRelIso_chg#171, Muon_pfRelIso03_all#172, Muon_pfRelIso03_chg#173, Muon_pfRelIso04_all#174, Muon_phi#175, Muon_pt#176, Muon_ptErr#177, Muon_segmentComp#178, Muon_sip3d#179, Muon_sip3d_ugo#180, Muon_mvaTTH#181, ... 21 more fields]\\n                     :     +- Project [run#0, luminosityBlock#1, event#2L, CaloMET_phi#3, CaloMET_pt#4, CaloMET_sumEt#5, nElectron#6, Electron_deltaEtaSC#7, Electron_dr03EcalRecHitSumEt#8, Electron_dr03HcalDepth1TowerSumEt#9, Electron_dr03TkSumPt#10, Electron_dxy#11, Electron_dxyErr#12, Electron_dxyErr_ugo#13, Electron_dxy_ugo#14, Electron_dz#15, Electron_dzErr#16, Electron_eCorr#17, Electron_eInvMinusPInv#18, Electron_energyErr#19, Electron_eta#20, Electron_hoe#21, Electron_ip3d#22, Electron_ip3d_ugo#23, ... 955 more fields]\\n                     :        +- Project [run#0, luminosityBlock#1, event#2L, CaloMET_phi#3, CaloMET_pt#4, CaloMET_sumEt#5, nElectron#6, Electron_deltaEtaSC#7, Electron_dr03EcalRecHitSumEt#8, Electron_dr03HcalDepth1TowerSumEt#9, Electron_dr03TkSumPt#10, Electron_dxy#11, Electron_dxyErr#12, Electron_dxyErr_ugo#13, Electron_dxy_ugo#14, Electron_dz#15, Electron_dzErr#16, Electron_eCorr#17, Electron_eInvMinusPInv#18, Electron_energyErr#19, Electron_eta#20, Electron_hoe#21, Electron_ip3d#22, Electron_ip3d_ugo#23, ... 954 more fields]\\n                     :           +- Project [run#0, luminosityBlock#1, event#2L, CaloMET_phi#3, CaloMET_pt#4, CaloMET_sumEt#5, nElectron#6, Electron_deltaEtaSC#7, Electron_dr03EcalRecHitSumEt#8, Electron_dr03HcalDepth1TowerSumEt#9, Electron_dr03TkSumPt#10, Electron_dxy#11, Electron_dxyErr#12, Electron_dxyErr_ugo#13, Electron_dxy_ugo#14, Electron_dz#15, Electron_dzErr#16, Electron_eCorr#17, Electron_eInvMinusPInv#18, Electron_energyErr#19, Electron_eta#20, Electron_hoe#21, Electron_ip3d#22, Electron_ip3d_ugo#23, ... 953 more fields]\\n                     :              +- Project [run#0, luminosityBlock#1, event#2L, CaloMET_phi#3, CaloMET_pt#4, CaloMET_sumEt#5, nElectron#6, Electron_deltaEtaSC#7, Electron_dr03EcalRecHitSumEt#8, Electron_dr03HcalDepth1TowerSumEt#9, Electron_dr03TkSumPt#10, Electron_dxy#11, Electron_dxyErr#12, Electron_dxyErr_ugo#13, Electron_dxy_ugo#14, Electron_dz#15, Electron_dzErr#16, Electron_eCorr#17, Electron_eInvMinusPInv#18, Electron_energyErr#19, Electron_eta#20, Electron_hoe#21, Electron_ip3d#22, Electron_ip3d_ugo#23, ... 952 more fields]\\n                     :                 +- Project [run#0, luminosityBlock#1, event#2L, CaloMET_phi#3, CaloMET_pt#4, CaloMET_sumEt#5, nElectron#6, Electron_deltaEtaSC#7, Electron_dr03EcalRecHitSumEt#8, Electron_dr03HcalDepth1TowerSumEt#9, Electron_dr03TkSumPt#10, Electron_dxy#11, Electron_dxyErr#12, Electron_dxyErr_ugo#13, Electron_dxy_ugo#14, Electron_dz#15, Electron_dzErr#16, Electron_eCorr#17, Electron_eInvMinusPInv#18, Electron_energyErr#19, Electron_eta#20, Electron_hoe#21, Electron_ip3d#22, Electron_ip3d_ugo#23, ... 951 more fields]\\n                     :                    +- Project [run#0, luminosityBlock#1, event#2L, CaloMET_phi#3, CaloMET_pt#4, CaloMET_sumEt#5, nElectron#6, Electron_deltaEtaSC#7, Electron_dr03EcalRecHitSumEt#8, Electron_dr03HcalDepth1TowerSumEt#9, Electron_dr03TkSumPt#10, Electron_dxy#11, Electron_dxyErr#12, Electron_dxyErr_ugo#13, Electron_dxy_ugo#14, Electron_dz#15, Electron_dzErr#16, Electron_eCorr#17, Electron_eInvMinusPInv#18, Electron_energyErr#19, Electron_eta#20, Electron_hoe#21, Electron_ip3d#22, Electron_ip3d_ugo#23, ... 950 more fields]\\n                     :                       +- Relation[run#0,luminosityBlock#1,event#2L,CaloMET_phi#3,CaloMET_pt#4,CaloMET_sumEt#5,nElectron#6,Electron_deltaEtaSC#7,Electron_dr03EcalRecHitSumEt#8,Electron_dr03HcalDepth1TowerSumEt#9,Electron_dr03TkSumPt#10,Electron_dxy#11,Electron_dxyErr#12,Electron_dxyErr_ugo#13,Electron_dxy_ugo#14,Electron_dz#15,Electron_dzErr#16,Electron_eCorr#17,Electron_eInvMinusPInv#18,Electron_energyErr#19,Electron_eta#20,Electron_hoe#21,Electron_ip3d#22,Electron_ip3d_ugo#23,... 949 more fields] org.dianahep.sparkroot.package$RootTableScan@310cf2cd\\n                     :- Project [Jet_nMuons#8934, nMuon#8947, Muon_dxy#8948, Muon_dxyErr#8949, Muon_dxyErr_ugo#8950, Muon_dxy_ugo#8951, Muon_dz#8952, Muon_dzErr#8953, Muon_eta#8954, Muon_ip3d#8955, Muon_ip3d_ugo#8956, Muon_mass#8957, Muon_miniPFRelIso_all#8958, Muon_miniPFRelIso_chg#8959, Muon_pfRelIso03_all#8960, Muon_pfRelIso03_chg#8961, Muon_pfRelIso04_all#8962, Muon_phi#8963, Muon_pt#8964, Muon_ptErr#8965, Muon_segmentComp#8966, Muon_sip3d#8967, Muon_sip3d_ugo#8968, Muon_mvaTTH#8969, ... 21 more fields]\\n                     :  +- Project [Jet_nMuons#8934, nMuon#8947, Muon_dxy#8948, Muon_dxyErr#8949, Muon_dxyErr_ugo#8950, Muon_dxy_ugo#8951, Muon_dz#8952, Muon_dzErr#8953, Muon_eta#8954, Muon_ip3d#8955, Muon_ip3d_ugo#8956, Muon_mass#8957, Muon_miniPFRelIso_all#8958, Muon_miniPFRelIso_chg#8959, Muon_pfRelIso03_all#8960, Muon_pfRelIso03_chg#8961, Muon_pfRelIso04_all#8962, Muon_phi#8963, Muon_pt#8964, Muon_ptErr#8965, Muon_segmentComp#8966, Muon_sip3d#8967, Muon_sip3d_ugo#8968, Muon_mvaTTH#8969, ... 21 more fields]\\n                     :     +- Project [run#8803, luminosityBlock#8804, event#8805L, CaloMET_phi#8806, CaloMET_pt#8807, CaloMET_sumEt#8808, nElectron#8809, Electron_deltaEtaSC#8810, Electron_dr03EcalRecHitSumEt#8811, Electron_dr03HcalDepth1TowerSumEt#8812, Electron_dr03TkSumPt#8813, Electron_dxy#8814, Electron_dxyErr#8815, Electron_dxyErr_ugo#8816, Electron_dxy_ugo#8817, Electron_dz#8818, Electron_dzErr#8819, Electron_eCorr#8820, Electron_eInvMinusPInv#8821, Electron_energyErr#8822, Electron_eta#8823, Electron_hoe#8824, Electron_ip3d#8825, Electron_ip3d_ugo#8826, ... 940 more fields]\\n                     :        +- Project [run#8803, luminosityBlock#8804, event#8805L, CaloMET_phi#8806, CaloMET_pt#8807, CaloMET_sumEt#8808, nElectron#8809, Electron_deltaEtaSC#8810, Electron_dr03EcalRecHitSumEt#8811, Electron_dr03HcalDepth1TowerSumEt#8812, Electron_dr03TkSumPt#8813, Electron_dxy#8814, Electron_dxyErr#8815, Electron_dxyErr_ugo#8816, Electron_dxy_ugo#8817, Electron_dz#8818, Electron_dzErr#8819, Electron_eCorr#8820, Electron_eInvMinusPInv#8821, Electron_energyErr#8822, Electron_eta#8823, Electron_hoe#8824, Electron_ip3d#8825, Electron_ip3d_ugo#8826, ... 939 more fields]\\n                     :           +- Project [run#8803, luminosityBlock#8804, event#8805L, CaloMET_phi#8806, CaloMET_pt#8807, CaloMET_sumEt#8808, nElectron#8809, Electron_deltaEtaSC#8810, Electron_dr03EcalRecHitSumEt#8811, Electron_dr03HcalDepth1TowerSumEt#8812, Electron_dr03TkSumPt#8813, Electron_dxy#8814, Electron_dxyErr#8815, Electron_dxyErr_ugo#8816, Electron_dxy_ugo#8817, Electron_dz#8818, Electron_dzErr#8819, Electron_eCorr#8820, Electron_eInvMinusPInv#8821, Electron_energyErr#8822, Electron_eta#8823, Electron_hoe#8824, Electron_ip3d#8825, Electron_ip3d_ugo#8826, ... 938 more fields]\\n                     :              +- Project [run#8803, luminosityBlock#8804, event#8805L, CaloMET_phi#8806, CaloMET_pt#8807, CaloMET_sumEt#8808, nElectron#8809, Electron_deltaEtaSC#8810, Electron_dr03EcalRecHitSumEt#8811, Electron_dr03HcalDepth1TowerSumEt#8812, Electron_dr03TkSumPt#8813, Electron_dxy#8814, Electron_dxyErr#8815, Electron_dxyErr_ugo#8816, Electron_dxy_ugo#8817, Electron_dz#8818, Electron_dzErr#8819, Electron_eCorr#8820, Electron_eInvMinusPInv#8821, Electron_energyErr#8822, Electron_eta#8823, Electron_hoe#8824, Electron_ip3d#8825, Electron_ip3d_ugo#8826, ... 937 more fields]\\n                     :                 +- Project [run#8803, luminosityBlock#8804, event#8805L, CaloMET_phi#8806, CaloMET_pt#8807, CaloMET_sumEt#8808, nElectron#8809, Electron_deltaEtaSC#8810, Electron_dr03EcalRecHitSumEt#8811, Electron_dr03HcalDepth1TowerSumEt#8812, Electron_dr03TkSumPt#8813, Electron_dxy#8814, Electron_dxyErr#8815, Electron_dxyErr_ugo#8816, Electron_dxy_ugo#8817, Electron_dz#8818, Electron_dzErr#8819, Electron_eCorr#8820, Electron_eInvMinusPInv#8821, Electron_energyErr#8822, Electron_eta#8823, Electron_hoe#8824, Electron_ip3d#8825, Electron_ip3d_ugo#8826, ... 936 more fields]\\n                     :                    +- Project [run#8803, luminosityBlock#8804, event#8805L, CaloMET_phi#8806, CaloMET_pt#8807, CaloMET_sumEt#8808, nElectron#8809, Electron_deltaEtaSC#8810, Electron_dr03EcalRecHitSumEt#8811, Electron_dr03HcalDepth1TowerSumEt#8812, Electron_dr03TkSumPt#8813, Electron_dxy#8814, Electron_dxyErr#8815, Electron_dxyErr_ugo#8816, Electron_dxy_ugo#8817, Electron_dz#8818, Electron_dzErr#8819, Electron_eCorr#8820, Electron_eInvMinusPInv#8821, Electron_energyErr#8822, Electron_eta#8823, Electron_hoe#8824, Electron_ip3d#8825, Electron_ip3d_ugo#8826, ... 935 more fields]\\n                     :                       +- Relation[run#8803,luminosityBlock#8804,event#8805L,CaloMET_phi#8806,CaloMET_pt#8807,CaloMET_sumEt#8808,nElectron#8809,Electron_deltaEtaSC#8810,Electron_dr03EcalRecHitSumEt#8811,Electron_dr03HcalDepth1TowerSumEt#8812,Electron_dr03TkSumPt#8813,Electron_dxy#8814,Electron_dxyErr#8815,Electron_dxyErr_ugo#8816,Electron_dxy_ugo#8817,Electron_dz#8818,Electron_dzErr#8819,Electron_eCorr#8820,Electron_eInvMinusPInv#8821,Electron_energyErr#8822,Electron_eta#8823,Electron_hoe#8824,Electron_ip3d#8825,Electron_ip3d_ugo#8826,... 934 more fields] org.dianahep.sparkroot.package$RootTableScan@687d8c39\\n                     :- Project [Jet_nMuons#17567, nMuon#17578, Muon_dxy#17579, Muon_dxyErr#17580, Muon_dxyErr_ugo#17581, Muon_dxy_ugo#17582, Muon_dz#17583, Muon_dzErr#17584, Muon_eta#17585, Muon_ip3d#17586, Muon_ip3d_ugo#17587, Muon_mass#17588, Muon_miniPFRelIso_all#17589, Muon_miniPFRelIso_chg#17590, Muon_pfRelIso03_all#17591, Muon_pfRelIso03_chg#17592, Muon_pfRelIso04_all#17593, Muon_phi#17594, Muon_pt#17595, Muon_ptErr#17596, Muon_segmentComp#17597, Muon_sip3d#17598, Muon_sip3d_ugo#17599, Muon_mvaTTH#17600, ... 21 more fields]\\n                     :  +- Project [Jet_nMuons#17567, nMuon#17578, Muon_dxy#17579, Muon_dxyErr#17580, Muon_dxyErr_ugo#17581, Muon_dxy_ugo#17582, Muon_dz#17583, Muon_dzErr#17584, Muon_eta#17585, Muon_ip3d#17586, Muon_ip3d_ugo#17587, Muon_mass#17588, Muon_miniPFRelIso_all#17589, Muon_miniPFRelIso_chg#17590, Muon_pfRelIso03_all#17591, Muon_pfRelIso03_chg#17592, Muon_pfRelIso04_all#17593, Muon_phi#17594, Muon_pt#17595, Muon_ptErr#17596, Muon_segmentComp#17597, Muon_sip3d#17598, Muon_sip3d_ugo#17599, Muon_mvaTTH#17600, ... 21 more fields]\\n                     :     +- Project [run#17471, luminosityBlock#17472, event#17473L, CaloMET_phi#17474, CaloMET_pt#17475, CaloMET_sumEt#17476, nElectron#17477, Electron_deltaEtaSC#17478, Electron_dr03EcalRecHitSumEt#17479, Electron_dr03HcalDepth1TowerSumEt#17480, Electron_dr03TkSumPt#17481, Electron_dxy#17482, Electron_dxyErr#17483, Electron_dxyErr_ugo#17484, Electron_dxy_ugo#17485, Electron_dz#17486, Electron_dzErr#17487, Electron_eCorr#17488, Electron_eInvMinusPInv#17489, Electron_energyErr#17490, Electron_eta#17491, Electron_hoe#17492, Electron_ip3d#17493, Electron_ip3d_ugo#17494, ... 845 more fields]\\n                     :        +- Project [run#17471, luminosityBlock#17472, event#17473L, CaloMET_phi#17474, CaloMET_pt#17475, CaloMET_sumEt#17476, nElectron#17477, Electron_deltaEtaSC#17478, Electron_dr03EcalRecHitSumEt#17479, Electron_dr03HcalDepth1TowerSumEt#17480, Electron_dr03TkSumPt#17481, Electron_dxy#17482, Electron_dxyErr#17483, Electron_dxyErr_ugo#17484, Electron_dxy_ugo#17485, Electron_dz#17486, Electron_dzErr#17487, Electron_eCorr#17488, Electron_eInvMinusPInv#17489, Electron_energyErr#17490, Electron_eta#17491, Electron_hoe#17492, Electron_ip3d#17493, Electron_ip3d_ugo#17494, ... 844 more fields]\\n                     :           +- Project [run#17471, luminosityBlock#17472, event#17473L, CaloMET_phi#17474, CaloMET_pt#17475, CaloMET_sumEt#17476, nElectron#17477, Electron_deltaEtaSC#17478, Electron_dr03EcalRecHitSumEt#17479, Electron_dr03HcalDepth1TowerSumEt#17480, Electron_dr03TkSumPt#17481, Electron_dxy#17482, Electron_dxyErr#17483, Electron_dxyErr_ugo#17484, Electron_dxy_ugo#17485, Electron_dz#17486, Electron_dzErr#17487, Electron_eCorr#17488, Electron_eInvMinusPInv#17489, Electron_energyErr#17490, Electron_eta#17491, Electron_hoe#17492, Electron_ip3d#17493, Electron_ip3d_ugo#17494, ... 843 more fields]\\n                     :              +- Project [run#17471, luminosityBlock#17472, event#17473L, CaloMET_phi#17474, CaloMET_pt#17475, CaloMET_sumEt#17476, nElectron#17477, Electron_deltaEtaSC#17478, Electron_dr03EcalRecHitSumEt#17479, Electron_dr03HcalDepth1TowerSumEt#17480, Electron_dr03TkSumPt#17481, Electron_dxy#17482, Electron_dxyErr#17483, Electron_dxyErr_ugo#17484, Electron_dxy_ugo#17485, Electron_dz#17486, Electron_dzErr#17487, Electron_eCorr#17488, Electron_eInvMinusPInv#17489, Electron_energyErr#17490, Electron_eta#17491, Electron_hoe#17492, Electron_ip3d#17493, Electron_ip3d_ugo#17494, ... 842 more fields]\\n                     :                 +- Project [run#17471, luminosityBlock#17472, event#17473L, CaloMET_phi#17474, CaloMET_pt#17475, CaloMET_sumEt#17476, nElectron#17477, Electron_deltaEtaSC#17478, Electron_dr03EcalRecHitSumEt#17479, Electron_dr03HcalDepth1TowerSumEt#17480, Electron_dr03TkSumPt#17481, Electron_dxy#17482, Electron_dxyErr#17483, Electron_dxyErr_ugo#17484, Electron_dxy_ugo#17485, Electron_dz#17486, Electron_dzErr#17487, Electron_eCorr#17488, Electron_eInvMinusPInv#17489, Electron_energyErr#17490, Electron_eta#17491, Electron_hoe#17492, Electron_ip3d#17493, Electron_ip3d_ugo#17494, ... 841 more fields]\\n                     :                    +- Project [run#17471, luminosityBlock#17472, event#17473L, CaloMET_phi#17474, CaloMET_pt#17475, CaloMET_sumEt#17476, nElectron#17477, Electron_deltaEtaSC#17478, Electron_dr03EcalRecHitSumEt#17479, Electron_dr03HcalDepth1TowerSumEt#17480, Electron_dr03TkSumPt#17481, Electron_dxy#17482, Electron_dxyErr#17483, Electron_dxyErr_ugo#17484, Electron_dxy_ugo#17485, Electron_dz#17486, Electron_dzErr#17487, Electron_eCorr#17488, Electron_eInvMinusPInv#17489, Electron_energyErr#17490, Electron_eta#17491, Electron_hoe#17492, Electron_ip3d#17493, Electron_ip3d_ugo#17494, ... 840 more fields]\\n                     :                       +- Relation[run#17471,luminosityBlock#17472,event#17473L,CaloMET_phi#17474,CaloMET_pt#17475,CaloMET_sumEt#17476,nElectron#17477,Electron_deltaEtaSC#17478,Electron_dr03EcalRecHitSumEt#17479,Electron_dr03HcalDepth1TowerSumEt#17480,Electron_dr03TkSumPt#17481,Electron_dxy#17482,Electron_dxyErr#17483,Electron_dxyErr_ugo#17484,Electron_dxy_ugo#17485,Electron_dz#17486,Electron_dzErr#17487,Electron_eCorr#17488,Electron_eInvMinusPInv#17489,Electron_energyErr#17490,Electron_eta#17491,Electron_hoe#17492,Electron_ip3d#17493,Electron_ip3d_ugo#17494,... 839 more fields] org.dianahep.sparkroot.package$RootTableScan@75142002\\n                     :- Project [Jet_nMuons#25415, nMuon#25428, Muon_dxy#25429, Muon_dxyErr#25430, Muon_dxyErr_ugo#25431, Muon_dxy_ugo#25432, Muon_dz#25433, Muon_dzErr#25434, Muon_eta#25435, Muon_ip3d#25436, Muon_ip3d_ugo#25437, Muon_mass#25438, Muon_miniPFRelIso_all#25439, Muon_miniPFRelIso_chg#25440, Muon_pfRelIso03_all#25441, Muon_pfRelIso03_chg#25442, Muon_pfRelIso04_all#25443, Muon_phi#25444, Muon_pt#25445, Muon_ptErr#25446, Muon_segmentComp#25447, Muon_sip3d#25448, Muon_sip3d_ugo#25449, Muon_mvaTTH#25450, ... 21 more fields]\\n                     :  +- Project [run#25284, luminosityBlock#25285, event#25286L, CaloMET_phi#25287, CaloMET_pt#25288, CaloMET_sumEt#25289, nElectron#25290, Electron_deltaEtaSC#25291, Electron_dr03EcalRecHitSumEt#25292, Electron_dr03HcalDepth1TowerSumEt#25293, Electron_dr03TkSumPt#25294, Electron_dxy#25295, Electron_dxyErr#25296, Electron_dxyErr_ugo#25297, Electron_dxy_ugo#25298, Electron_dz#25299, Electron_dzErr#25300, Electron_eCorr#25301, Electron_eInvMinusPInv#25302, Electron_energyErr#25303, Electron_eta#25304, Electron_hoe#25305, Electron_ip3d#25306, Electron_ip3d_ugo#25307, ... 940 more fields]\\n                     :     +- Project [run#25284, luminosityBlock#25285, event#25286L, CaloMET_phi#25287, CaloMET_pt#25288, CaloMET_sumEt#25289, nElectron#25290, Electron_deltaEtaSC#25291, Electron_dr03EcalRecHitSumEt#25292, Electron_dr03HcalDepth1TowerSumEt#25293, Electron_dr03TkSumPt#25294, Electron_dxy#25295, Electron_dxyErr#25296, Electron_dxyErr_ugo#25297, Electron_dxy_ugo#25298, Electron_dz#25299, Electron_dzErr#25300, Electron_eCorr#25301, Electron_eInvMinusPInv#25302, Electron_energyErr#25303, Electron_eta#25304, Electron_hoe#25305, Electron_ip3d#25306, Electron_ip3d_ugo#25307, ... 939 more fields]\\n                     :        +- Project [run#25284, luminosityBlock#25285, event#25286L, CaloMET_phi#25287, CaloMET_pt#25288, CaloMET_sumEt#25289, nElectron#25290, Electron_deltaEtaSC#25291, Electron_dr03EcalRecHitSumEt#25292, Electron_dr03HcalDepth1TowerSumEt#25293, Electron_dr03TkSumPt#25294, Electron_dxy#25295, Electron_dxyErr#25296, Electron_dxyErr_ugo#25297, Electron_dxy_ugo#25298, Electron_dz#25299, Electron_dzErr#25300, Electron_eCorr#25301, Electron_eInvMinusPInv#25302, Electron_energyErr#25303, Electron_eta#25304, Electron_hoe#25305, Electron_ip3d#25306, Electron_ip3d_ugo#25307, ... 938 more fields]\\n                     :           +- Project [run#25284, luminosityBlock#25285, event#25286L, CaloMET_phi#25287, CaloMET_pt#25288, CaloMET_sumEt#25289, nElectron#25290, Electron_deltaEtaSC#25291, Electron_dr03EcalRecHitSumEt#25292, Electron_dr03HcalDepth1TowerSumEt#25293, Electron_dr03TkSumPt#25294, Electron_dxy#25295, Electron_dxyErr#25296, Electron_dxyErr_ugo#25297, Electron_dxy_ugo#25298, Electron_dz#25299, Electron_dzErr#25300, Electron_eCorr#25301, Electron_eInvMinusPInv#25302, Electron_energyErr#25303, Electron_eta#25304, Electron_hoe#25305, Electron_ip3d#25306, Electron_ip3d_ugo#25307, ... 937 more fields]\\n                     :              +- Project [run#25284, luminosityBlock#25285, event#25286L, CaloMET_phi#25287, CaloMET_pt#25288, CaloMET_sumEt#25289, nElectron#25290, Electron_deltaEtaSC#25291, Electron_dr03EcalRecHitSumEt#25292, Electron_dr03HcalDepth1TowerSumEt#25293, Electron_dr03TkSumPt#25294, Electron_dxy#25295, Electron_dxyErr#25296, Electron_dxyErr_ugo#25297, Electron_dxy_ugo#25298, Electron_dz#25299, Electron_dzErr#25300, Electron_eCorr#25301, Electron_eInvMinusPInv#25302, Electron_energyErr#25303, Electron_eta#25304, Electron_hoe#25305, Electron_ip3d#25306, Electron_ip3d_ugo#25307, ... 936 more fields]\\n                     :                 +- Project [run#25284, luminosityBlock#25285, event#25286L, CaloMET_phi#25287, CaloMET_pt#25288, CaloMET_sumEt#25289, nElectron#25290, Electron_deltaEtaSC#25291, Electron_dr03EcalRecHitSumEt#25292, Electron_dr03HcalDepth1TowerSumEt#25293, Electron_dr03TkSumPt#25294, Electron_dxy#25295, Electron_dxyErr#25296, Electron_dxyErr_ugo#25297, Electron_dxy_ugo#25298, Electron_dz#25299, Electron_dzErr#25300, Electron_eCorr#25301, Electron_eInvMinusPInv#25302, Electron_energyErr#25303, Electron_eta#25304, Electron_hoe#25305, Electron_ip3d#25306, Electron_ip3d_ugo#25307, ... 935 more fields]\\n                     :                    +- Relation[run#25284,luminosityBlock#25285,event#25286L,CaloMET_phi#25287,CaloMET_pt#25288,CaloMET_sumEt#25289,nElectron#25290,Electron_deltaEtaSC#25291,Electron_dr03EcalRecHitSumEt#25292,Electron_dr03HcalDepth1TowerSumEt#25293,Electron_dr03TkSumPt#25294,Electron_dxy#25295,Electron_dxyErr#25296,Electron_dxyErr_ugo#25297,Electron_dxy_ugo#25298,Electron_dz#25299,Electron_dzErr#25300,Electron_eCorr#25301,Electron_eInvMinusPInv#25302,Electron_energyErr#25303,Electron_eta#25304,Electron_hoe#25305,Electron_ip3d#25306,Electron_ip3d_ugo#25307,... 934 more fields] org.dianahep.sparkroot.package$RootTableScan@6cea9ffc\\n                     :- Project [Jet_nMuons#34088, nMuon#34111, Muon_dxy#34112, Muon_dxyErr#34113, Muon_dxyErr_ugo#34114, Muon_dxy_ugo#34115, Muon_dz#34116, Muon_dzErr#34117, Muon_eta#34118, Muon_ip3d#34119, Muon_ip3d_ugo#34120, Muon_mass#34121, Muon_miniPFRelIso_all#34122, Muon_miniPFRelIso_chg#34123, Muon_pfRelIso03_all#34124, Muon_pfRelIso03_chg#34125, Muon_pfRelIso04_all#34126, Muon_phi#34127, Muon_pt#34128, Muon_ptErr#34129, Muon_segmentComp#34130, Muon_sip3d#34131, Muon_sip3d_ugo#34132, Muon_mvaTTH#34133, ... 21 more fields]\\n                     :  +- Project [run#33952, luminosityBlock#33953, event#33954L, CaloMET_phi#33955, CaloMET_pt#33956, CaloMET_sumEt#33957, nElectron#33958, Electron_deltaEtaSC#33959, Electron_dr03EcalRecHitSumEt#33960, Electron_dr03HcalDepth1TowerSumEt#33961, Electron_dr03TkSumPt#33962, Electron_dxy#33963, Electron_dxyErr#33964, Electron_dxyErr_ugo#33965, Electron_dxy_ugo#33966, Electron_dz#33967, Electron_dzErr#33968, Electron_eCorr#33969, Electron_eInvMinusPInv#33970, Electron_energyErr#33971, Electron_eta#33972, Electron_hoe#33973, Electron_ip3d#33974, Electron_ip3d_ugo#33975, ... 955 more fields]\\n                     :     +- Project [run#33952, luminosityBlock#33953, event#33954L, CaloMET_phi#33955, CaloMET_pt#33956, CaloMET_sumEt#33957, nElectron#33958, Electron_deltaEtaSC#33959, Electron_dr03EcalRecHitSumEt#33960, Electron_dr03HcalDepth1TowerSumEt#33961, Electron_dr03TkSumPt#33962, Electron_dxy#33963, Electron_dxyErr#33964, Electron_dxyErr_ugo#33965, Electron_dxy_ugo#33966, Electron_dz#33967, Electron_dzErr#33968, Electron_eCorr#33969, Electron_eInvMinusPInv#33970, Electron_energyErr#33971, Electron_eta#33972, Electron_hoe#33973, Electron_ip3d#33974, Electron_ip3d_ugo#33975, ... 954 more fields]\\n                     :        +- Project [run#33952, luminosityBlock#33953, event#33954L, CaloMET_phi#33955, CaloMET_pt#33956, CaloMET_sumEt#33957, nElectron#33958, Electron_deltaEtaSC#33959, Electron_dr03EcalRecHitSumEt#33960, Electron_dr03HcalDepth1TowerSumEt#33961, Electron_dr03TkSumPt#33962, Electron_dxy#33963, Electron_dxyErr#33964, Electron_dxyErr_ugo#33965, Electron_dxy_ugo#33966, Electron_dz#33967, Electron_dzErr#33968, Electron_eCorr#33969, Electron_eInvMinusPInv#33970, Electron_energyErr#33971, Electron_eta#33972, Electron_hoe#33973, Electron_ip3d#33974, Electron_ip3d_ugo#33975, ... 953 more fields]\\n                     :           +- Project [run#33952, luminosityBlock#33953, event#33954L, CaloMET_phi#33955, CaloMET_pt#33956, CaloMET_sumEt#33957, nElectron#33958, Electron_deltaEtaSC#33959, Electron_dr03EcalRecHitSumEt#33960, Electron_dr03HcalDepth1TowerSumEt#33961, Electron_dr03TkSumPt#33962, Electron_dxy#33963, Electron_dxyErr#33964, Electron_dxyErr_ugo#33965, Electron_dxy_ugo#33966, Electron_dz#33967, Electron_dzErr#33968, Electron_eCorr#33969, Electron_eInvMinusPInv#33970, Electron_energyErr#33971, Electron_eta#33972, Electron_hoe#33973, Electron_ip3d#33974, Electron_ip3d_ugo#33975, ... 952 more fields]\\n                     :              +- Project [run#33952, luminosityBlock#33953, event#33954L, CaloMET_phi#33955, CaloMET_pt#33956, CaloMET_sumEt#33957, nElectron#33958, Electron_deltaEtaSC#33959, Electron_dr03EcalRecHitSumEt#33960, Electron_dr03HcalDepth1TowerSumEt#33961, Electron_dr03TkSumPt#33962, Electron_dxy#33963, Electron_dxyErr#33964, Electron_dxyErr_ugo#33965, Electron_dxy_ugo#33966, Electron_dz#33967, Electron_dzErr#33968, Electron_eCorr#33969, Electron_eInvMinusPInv#33970, Electron_energyErr#33971, Electron_eta#33972, Electron_hoe#33973, Electron_ip3d#33974, Electron_ip3d_ugo#33975, ... 951 more fields]\\n                     :                 +- Project [run#33952, luminosityBlock#33953, event#33954L, CaloMET_phi#33955, CaloMET_pt#33956, CaloMET_sumEt#33957, nElectron#33958, Electron_deltaEtaSC#33959, Electron_dr03EcalRecHitSumEt#33960, Electron_dr03HcalDepth1TowerSumEt#33961, Electron_dr03TkSumPt#33962, Electron_dxy#33963, Electron_dxyErr#33964, Electron_dxyErr_ugo#33965, Electron_dxy_ugo#33966, Electron_dz#33967, Electron_dzErr#33968, Electron_eCorr#33969, Electron_eInvMinusPInv#33970, Electron_energyErr#33971, Electron_eta#33972, Electron_hoe#33973, Electron_ip3d#33974, Electron_ip3d_ugo#33975, ... 950 more fields]\\n                     :                    +- Relation[run#33952,luminosityBlock#33953,event#33954L,CaloMET_phi#33955,CaloMET_pt#33956,CaloMET_sumEt#33957,nElectron#33958,Electron_deltaEtaSC#33959,Electron_dr03EcalRecHitSumEt#33960,Electron_dr03HcalDepth1TowerSumEt#33961,Electron_dr03TkSumPt#33962,Electron_dxy#33963,Electron_dxyErr#33964,Electron_dxyErr_ugo#33965,Electron_dxy_ugo#33966,Electron_dz#33967,Electron_dzErr#33968,Electron_eCorr#33969,Electron_eInvMinusPInv#33970,Electron_energyErr#33971,Electron_eta#33972,Electron_hoe#33973,Electron_ip3d#33974,Electron_ip3d_ugo#33975,... 949 more fields] org.dianahep.sparkroot.package$RootTableScan@5e51d594\\n                     +- Project [Jet_nMuons#42886, nMuon#42899, Muon_dxy#42900, Muon_dxyErr#42901, Muon_dxyErr_ugo#42902, Muon_dxy_ugo#42903, Muon_dz#42904, Muon_dzErr#42905, Muon_eta#42906, Muon_ip3d#42907, Muon_ip3d_ugo#42908, Muon_mass#42909, Muon_miniPFRelIso_all#42910, Muon_miniPFRelIso_chg#42911, Muon_pfRelIso03_all#42912, Muon_pfRelIso03_chg#42913, Muon_pfRelIso04_all#42914, Muon_phi#42915, Muon_pt#42916, Muon_ptErr#42917, Muon_segmentComp#42918, Muon_sip3d#42919, Muon_sip3d_ugo#42920, Muon_mvaTTH#42921, ... 21 more fields]\\n                        +- Project [run#42755, luminosityBlock#42756, event#42757L, CaloMET_phi#42758, CaloMET_pt#42759, CaloMET_sumEt#42760, nElectron#42761, Electron_deltaEtaSC#42762, Electron_dr03EcalRecHitSumEt#42763, Electron_dr03HcalDepth1TowerSumEt#42764, Electron_dr03TkSumPt#42765, Electron_dxy#42766, Electron_dxyErr#42767, Electron_dxyErr_ugo#42768, Electron_dxy_ugo#42769, Electron_dz#42770, Electron_dzErr#42771, Electron_eCorr#42772, Electron_eInvMinusPInv#42773, Electron_energyErr#42774, Electron_eta#42775, Electron_hoe#42776, Electron_ip3d#42777, Electron_ip3d_ugo#42778, ... 940 more fields]\\n                           +- Project [run#42755, luminosityBlock#42756, event#42757L, CaloMET_phi#42758, CaloMET_pt#42759, CaloMET_sumEt#42760, nElectron#42761, Electron_deltaEtaSC#42762, Electron_dr03EcalRecHitSumEt#42763, Electron_dr03HcalDepth1TowerSumEt#42764, Electron_dr03TkSumPt#42765, Electron_dxy#42766, Electron_dxyErr#42767, Electron_dxyErr_ugo#42768, Electron_dxy_ugo#42769, Electron_dz#42770, Electron_dzErr#42771, Electron_eCorr#42772, Electron_eInvMinusPInv#42773, Electron_energyErr#42774, Electron_eta#42775, Electron_hoe#42776, Electron_ip3d#42777, Electron_ip3d_ugo#42778, ... 939 more fields]\\n                              +- Project [run#42755, luminosityBlock#42756, event#42757L, CaloMET_phi#42758, CaloMET_pt#42759, CaloMET_sumEt#42760, nElectron#42761, Electron_deltaEtaSC#42762, Electron_dr03EcalRecHitSumEt#42763, Electron_dr03HcalDepth1TowerSumEt#42764, Electron_dr03TkSumPt#42765, Electron_dxy#42766, Electron_dxyErr#42767, Electron_dxyErr_ugo#42768, Electron_dxy_ugo#42769, Electron_dz#42770, Electron_dzErr#42771, Electron_eCorr#42772, Electron_eInvMinusPInv#42773, Electron_energyErr#42774, Electron_eta#42775, Electron_hoe#42776, Electron_ip3d#42777, Electron_ip3d_ugo#42778, ... 938 more fields]\\n                                 +- Project [run#42755, luminosityBlock#42756, event#42757L, CaloMET_phi#42758, CaloMET_pt#42759, CaloMET_sumEt#42760, nElectron#42761, Electron_deltaEtaSC#42762, Electron_dr03EcalRecHitSumEt#42763, Electron_dr03HcalDepth1TowerSumEt#42764, Electron_dr03TkSumPt#42765, Electron_dxy#42766, Electron_dxyErr#42767, Electron_dxyErr_ugo#42768, Electron_dxy_ugo#42769, Electron_dz#42770, Electron_dzErr#42771, Electron_eCorr#42772, Electron_eInvMinusPInv#42773, Electron_energyErr#42774, Electron_eta#42775, Electron_hoe#42776, Electron_ip3d#42777, Electron_ip3d_ugo#42778, ... 937 more fields]\\n                                    +- Project [run#42755, luminosityBlock#42756, event#42757L, CaloMET_phi#42758, CaloMET_pt#42759, CaloMET_sumEt#42760, nElectron#42761, Electron_deltaEtaSC#42762, Electron_dr03EcalRecHitSumEt#42763, Electron_dr03HcalDepth1TowerSumEt#42764, Electron_dr03TkSumPt#42765, Electron_dxy#42766, Electron_dxyErr#42767, Electron_dxyErr_ugo#42768, Electron_dxy_ugo#42769, Electron_dz#42770, Electron_dzErr#42771, Electron_eCorr#42772, Electron_eInvMinusPInv#42773, Electron_energyErr#42774, Electron_eta#42775, Electron_hoe#42776, Electron_ip3d#42777, Electron_ip3d_ugo#42778, ... 936 more fields]\\n                                       +- Project [run#42755, luminosityBlock#42756, event#42757L, CaloMET_phi#42758, CaloMET_pt#42759, CaloMET_sumEt#42760, nElectron#42761, Electron_deltaEtaSC#42762, Electron_dr03EcalRecHitSumEt#42763, Electron_dr03HcalDepth1TowerSumEt#42764, Electron_dr03TkSumPt#42765, Electron_dxy#42766, Electron_dxyErr#42767, Electron_dxyErr_ugo#42768, Electron_dxy_ugo#42769, Electron_dz#42770, Electron_dzErr#42771, Electron_eCorr#42772, Electron_eInvMinusPInv#42773, Electron_energyErr#42774, Electron_eta#42775, Electron_hoe#42776, Electron_ip3d#42777, Electron_ip3d_ugo#42778, ... 935 more fields]\\n                                          +- Relation[run#42755,luminosityBlock#42756,event#42757L,CaloMET_phi#42758,CaloMET_pt#42759,CaloMET_sumEt#42760,nElectron#42761,Electron_deltaEtaSC#42762,Electron_dr03EcalRecHitSumEt#42763,Electron_dr03HcalDepth1TowerSumEt#42764,Electron_dr03TkSumPt#42765,Electron_dxy#42766,Electron_dxyErr#42767,Electron_dxyErr_ugo#42768,Electron_dxy_ugo#42769,Electron_dz#42770,Electron_dzErr#42771,Electron_eCorr#42772,Electron_eInvMinusPInv#42773,Electron_energyErr#42774,Electron_eta#42775,Electron_hoe#42776,Electron_ip3d#42777,Electron_ip3d_ugo#42778,... 934 more fields] org.dianahep.sparkroot.package$RootTableScan@69f232b9\\n\""
     ]
    }
   ],
   "source": [
    "#Using numpy + pyroot \n",
    "from histogrammar import *\n",
    "import ROOT\n",
    "import numpy as np\n",
    "\n",
    "TTDF = np.array(DF.filter(DF.proc_sample.like(\"TT\")).select('mll').select('weight').collect()).flatten()\n",
    "DYDF = np.array(DF.filter(DF.proc_sample.like(\"DYJetsToLL\")).select('mll').select('weight').collect()).flatten()\n",
    "ZZDF = np.array(DF.filter(DF.proc_sample.like(\"ZZ\")).select('mll').select('weight').collect()).flatten()\n",
    "WZDF = np.array(DF.filter(DF.proc_sample.like(\"WZ\")).select('mll').select('weight').collect()).flatten()\n",
    "WWDF = np.array(DF.filter(DF.proc_sample.like(\"WW\")).select('mll').select('weight').collect()).flatten()\n",
    "DATADF = np.array(DF.filter(DF.proc_sample.like(\"SingleMuon\")).select('mll').select('weight').collect()).flatten()\n",
    "#Template\n",
    "histogram = Bin(40, 0, 200, lambda x : x.weight )\n",
    "\n",
    "histtt = histogram.copy()\n",
    "histdy = histogram.copy()\n",
    "histzz = histogram.copy()\n",
    "histwz = histogram.copy()\n",
    "histww = histogram.copy()\n",
    "histdata = histogram.copy()\n",
    "\n",
    "#histogram.fill.numpy(TTDF)\n",
    "\n",
    "histtt.fill.numpy(TTDF)\n",
    "histdy.fill.numpy(DYDF)\n",
    "histzz.fill.numpy(ZZDF)\n",
    "histwz.fill.numpy(WZDF)\n",
    "histww.fill.numpy(WWDF)\n",
    "histdata.fill.numpy(DATADF)\n",
    "\n",
    "#stack = Stack.build(histtt,histdy,histzz,histwz,histww,histdata)\n",
    "stack = Stack.build(histtt)\n",
    "roothist = stack.plot.root(\"name\", \"Invaraince mass of dilepton\")\n",
    "for i, h in enumerate(roothist.values()):\n",
    "    h.SetFillColor(i + 2)\n",
    "\n",
    "c = ROOT.TCanvas(\"c1\",\"The Canvas Title\",800,600)\n",
    "#roothist = histdy.plot.root(\"name\", \"Invaraince mass of dilepton\")\n",
    "roothist.GetYaxis().SetTitle(\"Events\")\n",
    "roothist.GetXaxis().SetTitle(\"M_{#mu#mu} [GeV]\")\n",
    "roothist.Draw()\n",
    "c.Draw()\n",
    "#c.SaveAs(\"test.png\")\n"
   ]
  },
  {
   "cell_type": "code",
   "execution_count": 17,
   "metadata": {},
   "outputs": [
    {
     "name": "stdout",
     "output_type": "stream",
     "text": [
      "+--------+------------------+\n",
      "|     mll|       proc_weight|\n",
      "+--------+------------------+\n",
      "|92.16055|376.46712381090964|\n",
      "|78.37113|376.46712381090964|\n",
      "|65.17627|376.46712381090964|\n",
      "+--------+------------------+\n",
      "only showing top 3 rows\n",
      "\n"
     ]
    },
    {
     "name": "stderr",
     "output_type": "stream",
     "text": [
      "Warning in <TROOT::Append>: Replacing existing TH1: name (Potential memory leak).\n"
     ]
    },
    {
     "data": {
      "image/png": "[encoded data removed]",
      "text/plain": [
       "<IPython.core.display.Image object>"
      ]
     },
     "metadata": {},
     "output_type": "display_data"
    }
   ],
   "source": [
    "#Using numpy + pyroot \n",
    "from histogrammar import *\n",
    "import histogrammar.sparksql\n",
    "import histogrammar as hg\n",
    "import ROOT\n",
    "import numpy as np\n",
    "\n",
    "df = DF.select('mll','proc_weight').filter(DF.proc_sample.like(\"DYJetsToLL\"))\n",
    "df.show(3)\n",
    "histogrammar.sparksql.addMethods(df)\n",
    "hist = df.Bin(40, 0, 200, df['mll'])\n",
    "hist1 = df.Bin(40, 0, 200, df['mll'], hg.Count.ing(df['proc_weight']) )\n",
    "\n",
    "c = ROOT.TCanvas(\"c1\",\"The Canvas Title\",1200,600)\n",
    "c.Clear()\n",
    "c.Divide(2,1)\n",
    "c.cd(1)\n",
    "#c.SetLogy()\n",
    "roothist = hist.plot.root(\"name\", \"Invaraince mass of dilepton\")\n",
    "roothist.GetYaxis().SetTitle(\"Events\")\n",
    "roothist.GetXaxis().SetTitle(\"M_{#mu#mu} [GeV]\")\n",
    "roothist.Draw()\n",
    "\n",
    "c.cd(2)\n",
    "#c.SetLogy()\n",
    "roothist1 = hist1.plot.root(\"name\", \"Invaraince mass of dilepton (weighted)\")\n",
    "roothist1.GetYaxis().SetTitle(\"Events\")\n",
    "roothist1.GetXaxis().SetTitle(\"M_{#mu#mu} [GeV]\")\n",
    "roothist1.Draw()\n",
    "c.Draw()\n"
   ]
  },
  {
   "cell_type": "code",
   "execution_count": null,
   "metadata": {},
   "outputs": [],
   "source": []
  },
  {
   "cell_type": "code",
   "execution_count": null,
   "metadata": {},
   "outputs": [],
   "source": []
  }
 ],
 "metadata": {
  "kernelspec": {
   "display_name": "Python 2",
   "language": "python",
   "name": "python2"
  },
  "language_info": {
   "codemirror_mode": {
    "name": "ipython",
    "version": 2
   },
   "file_extension": ".py",
   "mimetype": "text/x-python",
   "name": "python",
   "nbconvert_exporter": "python",
   "pygments_lexer": "ipython2",
   "version": "2.7.5"
  }
 },
 "nbformat": 4,
 "nbformat_minor": 2
}
