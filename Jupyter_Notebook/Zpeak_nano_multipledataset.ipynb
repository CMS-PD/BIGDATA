{
 "cells": [
  {
   "cell_type": "code",
   "execution_count": 9,
   "metadata": {},
   "outputs": [
    {
     "name": "stdout",
     "output_type": "stream",
     "text": [
      "Once deleted, variables cannot be recovered. Proceed (y/[n])? y\n"
     ]
    }
   ],
   "source": [
    "#Start up Spark (only needs to be done once)\n",
    "%reset\n",
    "import os\n",
    "import pyspark.sql\n",
    "import sys\n",
    "\n",
    "#!export KRB5CCNAME=FILE:/tmp/${USER}_krb\n",
    "#!kinit -c /tmp/${USER}_krb\n",
    "\n",
    "session = pyspark.sql.SparkSession.builder \\\n",
    "    .master(\n",
    "        #\"spark://10.64.22.66:7077\"\n",
    "        \"local\"\n",
    "    ) \\\n",
    "    .appName(# Name of your application in the dashboard/UI\n",
    "             \"Zpeak\"\n",
    "            ) \\\n",
    "    .config(# Tell Spark to load some extra libraries from Maven (the Java repository)\n",
    "            'spark.jars.packages',\n",
    "            'org.diana-hep:spark-root_2.11:0.1.16,org.diana-hep:histogrammar-sparksql_2.11:1.0.4'\n",
    "            )\\\n",
    "    .config('spark.cores.max,3'\n",
    "            ) \\\n",
    "    .getOrCreate()\n",
    "    \n",
    "sc = session.sparkContext\n",
    "sqlContext = session\n",
    "#!hdfs dfs -ls hdfs://10.64.22.72:9000/NANO_Prod"
   ]
  },
  {
   "cell_type": "markdown",
   "metadata": {},
   "source": [
    "# Loading NanoAod root files using spark-root package\n",
    "Loading the nanoaod root file serving from hadoop cluster, and load the tree in dedicated TDirectory in the root file."
   ]
  },
  {
   "cell_type": "code",
   "execution_count": 11,
   "metadata": {},
   "outputs": [
    {
     "name": "stdout",
     "output_type": "stream",
     "text": [
      "TT\n",
      "WW\n",
      "SingleMuon\n",
      "ZZ\n",
      "DYJetsToLL\n",
      "WZ\n",
      "Number of element:\n",
      "DFList size = 6\n",
      "Number of columns:\n",
      "DFList[0][0] = 979\n",
      "DFList[0][0] = 964\n",
      "DFList[1][0] = 869\n",
      "DFList[2][0] = 964\n",
      "DFList[3][0] = 979\n",
      "DFList[4][0] = 964\n"
     ]
    }
   ],
   "source": [
    "import json\n",
    "from pyspark.sql.functions import lit\n",
    "from samples import *\n",
    "\n",
    "\n",
    "DFList = [] # will contain six dataframe from six processes with added xsec, eff, kfactor, weight, samples\n",
    "\n",
    "for s in samples:\n",
    "    print s\n",
    "    dsPath = \"hdfs://10.64.22.72:9000/\"+BASE+samples[s]['filename']\n",
    "    tempDF = sqlContext.read \\\n",
    "                .format(\"org.dianahep.sparkroot\") \\\n",
    "                .option(\"tree\", \"Events\") \\\n",
    "                .load(dsPath)\\\n",
    "                .withColumn(\"proc_xsec\", lit(samples[s]['xsec']))\\\n",
    "                .withColumn(\"proc_eff\", lit(samples[s]['eff']))\\\n",
    "                .withColumn(\"proc_kfactor\", lit(samples[s]['kfactor']))\\\n",
    "                .withColumn(\"proc_weight\", lit(samples[s]['weight']))\\\n",
    "                .withColumn(\"proc_sample\", lit(s))        \n",
    "    nev = tempDF.count()\n",
    "    if samples[s]['xsec'] == None: # Data       \n",
    "        DFList.append([tempDF.withColumn(\"proc_nevents\",lit(nev))])        \n",
    "    else: # MC\n",
    "        samples[s]['weight'] = samples[s]['xsec'] * samples[s]['eff'] * samples[s]['kfactor'] * LUMI / nev\n",
    "        DFList.append([tempDF.withColumn(\"proc_nevents\",lit(nev))])        \n",
    "\n",
    "print \"Number of element:\"\n",
    "print \"DFList size =\", len(DFList)\n",
    "print \"Number of columns:\"\n",
    "print \"DFList[0][0] =\", len(DFList[0][0].columns)\n",
    "print \"DFList[0][0] =\", len(DFList[1][0].columns)\n",
    "print \"DFList[1][0] =\", len(DFList[2][0].columns)\n",
    "print \"DFList[2][0] =\", len(DFList[3][0].columns)\n",
    "print \"DFList[3][0] =\", len(DFList[4][0].columns)\n",
    "print \"DFList[4][0] =\", len(DFList[5][0].columns)"
   ]
  },
  {
   "cell_type": "markdown",
   "metadata": {},
   "source": [
    "# Reducing columns and Concatenate dataframes\n",
    "\n",
    "Select related attributes and concatenate all dataframes under one for ease of interpretation."
   ]
  },
  {
   "cell_type": "code",
   "execution_count": 12,
   "metadata": {},
   "outputs": [
    {
     "name": "stdout",
     "output_type": "stream",
     "text": [
      "Partitions:  6\n",
      "+-----------+-----------------+---------+------------+\n",
      "|proc_sample|      proc_weight|proc_xsec|proc_nevents|\n",
      "+-----------+-----------------+---------+------------+\n",
      "|         TT|78.15226773660807|   831.76|      382077|\n",
      "|         TT|78.15226773660807|   831.76|      382077|\n",
      "|         TT|78.15226773660807|   831.76|      382077|\n",
      "+-----------+-----------------+---------+------------+\n",
      "only showing top 3 rows\n",
      "\n",
      "+-----------+------------------+---------+------------+\n",
      "|proc_sample|       proc_weight|proc_xsec|proc_nevents|\n",
      "+-----------+------------------+---------+------------+\n",
      "| DYJetsToLL|376.46712381090964|   5765.4|      549790|\n",
      "| DYJetsToLL|376.46712381090964|   5765.4|      549790|\n",
      "| DYJetsToLL|376.46712381090964|   5765.4|      549790|\n",
      "+-----------+------------------+---------+------------+\n",
      "only showing top 3 rows\n",
      "\n",
      "+-----------+-----------------+---------+------------+\n",
      "|proc_sample|      proc_weight|proc_xsec|proc_nevents|\n",
      "+-----------+-----------------+---------+------------+\n",
      "|         ZZ|1.241169315871905|     16.6|      480144|\n",
      "|         ZZ|1.241169315871905|     16.6|      480144|\n",
      "|         ZZ|1.241169315871905|     16.6|      480144|\n",
      "+-----------+-----------------+---------+------------+\n",
      "only showing top 3 rows\n",
      "\n",
      "+-----------+------------------+---------+------------+\n",
      "|proc_sample|       proc_weight|proc_xsec|proc_nevents|\n",
      "+-----------+------------------+---------+------------+\n",
      "|         WZ|3.9959627212013733|     47.2|      424048|\n",
      "|         WZ|3.9959627212013733|     47.2|      424048|\n",
      "|         WZ|3.9959627212013733|     47.2|      424048|\n",
      "+-----------+------------------+---------+------------+\n",
      "only showing top 3 rows\n",
      "\n",
      "+-----------+-----------------+---------+------------+\n",
      "|proc_sample|      proc_weight|proc_xsec|proc_nevents|\n",
      "+-----------+-----------------+---------+------------+\n",
      "|         WW|12.21172418141073|    118.7|      348954|\n",
      "|         WW|12.21172418141073|    118.7|      348954|\n",
      "|         WW|12.21172418141073|    118.7|      348954|\n",
      "+-----------+-----------------+---------+------------+\n",
      "only showing top 3 rows\n",
      "\n",
      "+-----------+-----------+---------+------------+\n",
      "|proc_sample|proc_weight|proc_xsec|proc_nevents|\n",
      "+-----------+-----------+---------+------------+\n",
      "| SingleMuon|        1.0|     null|      477186|\n",
      "| SingleMuon|        1.0|     null|      477186|\n",
      "| SingleMuon|        1.0|     null|      477186|\n",
      "+-----------+-----------+---------+------------+\n",
      "only showing top 3 rows\n",
      "\n"
     ]
    }
   ],
   "source": [
    "header = list(DFList[0][0].columns) #infer the column header from one of the dataframe\n",
    "globalAttr = [g for g in header if 'proc_' in g]\n",
    "muonAttr = [muon for muon in header if 'Muon' in muon and 'genPart' not in muon]\n",
    "jetAttr = [jet for jet in header if 'Jet' in jet and 'HLT' not in jet]\n",
    "electronAttr = [electron for electron in header if 'Electron' in electron]\n",
    "Attributes = muonAttr + globalAttr\n",
    "DF = None\n",
    "if DFList:\n",
    "    DF = DFList[0][0].select(Attributes)\n",
    "    for x in DFList[1:]:\n",
    "        DF = DF.union(x[0].select(Attributes))\n",
    "    print \"Partitions:  %d\" % DF.rdd.getNumPartitions()\n",
    "    \n",
    "DF.select('proc_sample','proc_weight','proc_xsec','proc_nevents').filter(DF.proc_sample.like(\"TT\")).show(3)\n",
    "DF.select('proc_sample','proc_weight','proc_xsec','proc_nevents').filter(DF.proc_sample.like(\"DYJetsToLL\")).show(3)\n",
    "DF.select('proc_sample','proc_weight','proc_xsec','proc_nevents').filter(DF.proc_sample.like(\"ZZ\")).show(3)\n",
    "DF.select('proc_sample','proc_weight','proc_xsec','proc_nevents').filter(DF.proc_sample.like(\"WZ\")).show(3)\n",
    "DF.select('proc_sample','proc_weight','proc_xsec','proc_nevents').filter(DF.proc_sample.like(\"WW\")).show(3)\n",
    "DF.select('proc_sample','proc_weight','proc_xsec','proc_nevents').filter(DF.proc_sample.like(\"SingleMuon\")).show(3)"
   ]
  },
  {
   "cell_type": "markdown",
   "metadata": {},
   "source": [
    "# User Defined Function Definition and helper function\n",
    "\n",
    "User Defined Function (UDF) is a function passes row by row to compute derived quantity such as invaraint mass of two physics objects involving multiple column. Helper function defined to facilitate event selection (using spark feature such as filter instead of python defined function (thanks to NANOAOD structure!))"
   ]
  },
  {
   "cell_type": "code",
   "execution_count": 13,
   "metadata": {},
   "outputs": [],
   "source": [
    "#Define function\n",
    "#MuonEta = df.withColumn('Muon_eta[0]',abs(df.Value))\n",
    "from ROOT import TLorentzVector, gROOT\n",
    "\n",
    "def invariantMass(arr):\n",
    "    \n",
    "    lepton1 = TLorentzVector(); lepton1.SetPtEtaPhiM(0.,0.,0.,0.)\n",
    "    lepton2 = TLorentzVector(); lepton2.SetPtEtaPhiM(0.,0.,0.,0.)\n",
    "    Zsystem = TLorentzVector(); Zsystem.SetPtEtaPhiM(0.,0.,0.,0.)\n",
    "    \n",
    "    lepton1.SetPtEtaPhiM(arr[0][0],arr[1][0],arr[2][0],arr[3][0])\n",
    "    lepton2.SetPtEtaPhiM(arr[0][1],arr[1][1],arr[2][1],arr[3][1])\n",
    "    Zsystem =lepton1+lepton2\n",
    "    return float(Zsystem.M())\n",
    "\n",
    "def passMuonSel(dataframe):\n",
    "    return (dataframe.filter(\"Muon_pt[0]>10.0\").filter(\"Muon_pfRelIso04_all[0]<0.12\"))\n",
    "\n",
    "def passEventSel(dataframe):\n",
    "    return (dataframe.filter(\"nMuon>1\").filter(\"Muon_pt[0]>25.0\").filter(\"Muon_pfRelIso04_all[0]<0.5\"))\n"
   ]
  },
  {
   "cell_type": "markdown",
   "metadata": {},
   "source": [
    "# Event Selection\n",
    "\n",
    "Physics object-oriented selection and general event selection. Note: eta selection is ommitted, the abs() feature is not permitted in spark filter. "
   ]
  },
  {
   "cell_type": "code",
   "execution_count": 14,
   "metadata": {},
   "outputs": [
    {
     "name": "stdout",
     "output_type": "stream",
     "text": [
      "Muon Selection, number of event =  607712\n",
      "General Event Selection, number of event =  166244\n"
     ]
    }
   ],
   "source": [
    "#muon selection\n",
    "DF = passMuonSel(DF)\n",
    "print \"Muon Selection, number of event = \", DF.count()\n",
    "DF = passEventSel(DF)\n",
    "print \"General Event Selection, number of event = \", DF.count()"
   ]
  },
  {
   "cell_type": "markdown",
   "metadata": {},
   "source": [
    "# Computing the invaraince mass of two lepton \n",
    "\n",
    "Deploying the UDF to take kinemtaics variables of muons, constructing TLorenztVecotr on the fly and append a new column to reduced table (Muon object selection)"
   ]
  },
  {
   "cell_type": "code",
   "execution_count": 15,
   "metadata": {
    "scrolled": false
   },
   "outputs": [
    {
     "name": "stdout",
     "output_type": "stream",
     "text": [
      "+-----------+---------+-----------------+\n",
      "|proc_sample|      mll|      proc_weight|\n",
      "+-----------+---------+-----------------+\n",
      "|         TT|37.827938|78.15226773660807|\n",
      "|         TT|51.837776|78.15226773660807|\n",
      "|         TT|144.83916|78.15226773660807|\n",
      "|         TT| 71.81045|78.15226773660807|\n",
      "|         TT| 77.16723|78.15226773660807|\n",
      "+-----------+---------+-----------------+\n",
      "only showing top 5 rows\n",
      "\n",
      "+-----------+----------+------------------+\n",
      "|proc_sample|       mll|       proc_weight|\n",
      "+-----------+----------+------------------+\n",
      "| DYJetsToLL|  92.16055|376.46712381090964|\n",
      "| DYJetsToLL|  78.37113|376.46712381090964|\n",
      "| DYJetsToLL|  65.17627|376.46712381090964|\n",
      "| DYJetsToLL|104.037766|376.46712381090964|\n",
      "| DYJetsToLL| 90.211586|376.46712381090964|\n",
      "+-----------+----------+------------------+\n",
      "only showing top 5 rows\n",
      "\n",
      "+-----------+---------+-----------------+\n",
      "|proc_sample|      mll|      proc_weight|\n",
      "+-----------+---------+-----------------+\n",
      "|         ZZ| 70.18849|1.241169315871905|\n",
      "|         ZZ|  82.7106|1.241169315871905|\n",
      "|         ZZ| 90.65498|1.241169315871905|\n",
      "|         ZZ|90.474236|1.241169315871905|\n",
      "|         ZZ|97.944565|1.241169315871905|\n",
      "+-----------+---------+-----------------+\n",
      "only showing top 5 rows\n",
      "\n",
      "+-----------+---------+------------------+\n",
      "|proc_sample|      mll|       proc_weight|\n",
      "+-----------+---------+------------------+\n",
      "|         WZ|90.032646|3.9959627212013733|\n",
      "|         WZ|  90.7335|3.9959627212013733|\n",
      "|         WZ|  96.1964|3.9959627212013733|\n",
      "|         WZ| 88.58728|3.9959627212013733|\n",
      "|         WZ| 83.90562|3.9959627212013733|\n",
      "+-----------+---------+------------------+\n",
      "only showing top 5 rows\n",
      "\n",
      "+-----------+---------+-----------------+\n",
      "|proc_sample|      mll|      proc_weight|\n",
      "+-----------+---------+-----------------+\n",
      "|         WW|32.562294|12.21172418141073|\n",
      "|         WW| 251.5058|12.21172418141073|\n",
      "|         WW| 152.2747|12.21172418141073|\n",
      "|         WW| 85.65901|12.21172418141073|\n",
      "|         WW|7.3832803|12.21172418141073|\n",
      "+-----------+---------+-----------------+\n",
      "only showing top 5 rows\n",
      "\n",
      "+-----------+---------+-----------+\n",
      "|proc_sample|      mll|proc_weight|\n",
      "+-----------+---------+-----------+\n",
      "| SingleMuon| 89.35462|        1.0|\n",
      "| SingleMuon|37.607964|        1.0|\n",
      "| SingleMuon|60.266308|        1.0|\n",
      "| SingleMuon|23.525764|        1.0|\n",
      "| SingleMuon|92.423805|        1.0|\n",
      "+-----------+---------+-----------+\n",
      "only showing top 5 rows\n",
      "\n"
     ]
    }
   ],
   "source": [
    "#header = list(df.columns)\n",
    "#muonAttr = [muon for muon in header if 'Muon' in muon]\n",
    "#dsMuons = df.select(muonAttr)\n",
    "\n",
    "from pyspark.sql.functions import udf, array\n",
    "from pyspark.sql.types import FloatType\n",
    "MllUDF = udf(lambda z: invariantMass(z), FloatType())\n",
    "\n",
    "DF = DF.withColumn('mll',MllUDF(array('Muon_pt','Muon_eta','Muon_phi','Muon_mass')))\n",
    "#MLL = dfMuon.select(MllUDF(array('Muon_pt','Muon_eta','Muon_phi','Muon_mass')).alias('mll'))\n",
    "#MLL.show(10)\n",
    "\n",
    "DF.select('proc_sample','mll','proc_weight').filter(DF.proc_sample.like(\"TT\")).show(5)\n",
    "DF.select('proc_sample','mll','proc_weight').filter(DF.proc_sample.like(\"DYJetsToLL\")).show(5)\n",
    "DF.select('proc_sample','mll','proc_weight').filter(DF.proc_sample.like(\"ZZ\")).show(5)\n",
    "DF.select('proc_sample','mll','proc_weight').filter(DF.proc_sample.like(\"WZ\")).show(5)\n",
    "DF.select('proc_sample','mll','proc_weight').filter(DF.proc_sample.like(\"WW\")).show(5)\n",
    "DF.select('proc_sample','mll','proc_weight').filter(DF.proc_sample.like(\"SingleMuon\")).show(5)"
   ]
  },
  {
   "cell_type": "markdown",
   "metadata": {},
   "source": [
    "# Plotting the invariance mass of Z boson (matplotlib)\n",
    "\n",
    "Via Histogrammer, the computed quantity which appended to the big table is plotted using external package such as matplotlib"
   ]
  },
  {
   "cell_type": "code",
   "execution_count": 12,
   "metadata": {
    "scrolled": true
   },
   "outputs": [
    {
     "ename": "SyntaxError",
     "evalue": "invalid syntax (<ipython-input-12-1210d1f6548f>, line 17)",
     "output_type": "error",
     "traceback": [
      "\u001b[0;36m  File \u001b[0;32m\"<ipython-input-12-1210d1f6548f>\"\u001b[0;36m, line \u001b[0;32m17\u001b[0m\n\u001b[0;31m    plt.hist([x['mll'] if x.proc_sample == samples[0] for x in DF ],\u001b[0m\n\u001b[0m                                                        ^\u001b[0m\n\u001b[0;31mSyntaxError\u001b[0m\u001b[0;31m:\u001b[0m invalid syntax\n"
     ]
    }
   ],
   "source": [
    "#make histogram using matplotlib\n",
    "from histogrammar import *\n",
    "import histogrammar.sparksql\n",
    "import numpy as np\n",
    "import matplotlib.pyplot as plt\n",
    "\n",
    "fig = plt.figure(figsize=(8,6))\n",
    "\n",
    "# set up binning.  get also bin centers, to use for data points\n",
    "bin_size = 2\n",
    "xmin = 50\n",
    "xmax = 131 # should make this slightly larger than the desired end point of the plot\n",
    "binning = np.arange(xmin,xmax,bin_size)\n",
    "binning_centers = np.arange(xmin + bin_size/2.,xmax,bin_size)\n",
    "\n",
    "# for MC, can plot all together as a stacked histogram\n",
    "plt.hist([df['mll'] for df in DF.keys()],\n",
    "         weights=[x['weight'] if x.proc_sample == samples[0] for x in DF],\n",
    "         label=samples_dfs.keys(),\n",
    "         color=color_dict.values(),\n",
    "         bins=binning, histtype='bar', stacked=True\n",
    "        )\n",
    "\n",
    "#declaration of histogram\n",
    "#histogrammar.sparksql.addMethods(dfMuon)\n",
    "#hist = dfMuon.Bin(40, 0, 200, dfMuon['mll'])\n",
    "#plt.xlabel('$M_{\\mu\\mu}$ [GeV]')\n",
    "#plt.ylabel('Events')\n",
    "#hist.plot.matplotlib(name=\"Invariant mass of Z boson\")\n",
    "\n",
    "plt.show()"
   ]
  },
  {
   "cell_type": "markdown",
   "metadata": {},
   "source": [
    "# Plotting the invariance mass of Z boson (root)\n",
    "\n",
    "Via histogrammer, the computed quantity which appended to the big table is plotted using numpy + root packages"
   ]
  },
  {
   "cell_type": "code",
   "execution_count": 58,
   "metadata": {},
   "outputs": [
    {
     "ename": "AttributeError",
     "evalue": "'PlotMethod' object has no attribute 'root'",
     "output_type": "error",
     "traceback": [
      "\u001b[0;31m---------------------------------------------------------------------------\u001b[0m",
      "\u001b[0;31mAttributeError\u001b[0m                            Traceback (most recent call last)",
      "\u001b[0;32m<ipython-input-58-8fa26cc36934>\u001b[0m in \u001b[0;36m<module>\u001b[0;34m()\u001b[0m\n\u001b[1;32m     57\u001b[0m \u001b[0;34m\u001b[0m\u001b[0m\n\u001b[1;32m     58\u001b[0m \u001b[0mc\u001b[0m \u001b[0;34m=\u001b[0m \u001b[0mROOT\u001b[0m\u001b[0;34m.\u001b[0m\u001b[0mTCanvas\u001b[0m\u001b[0;34m(\u001b[0m\u001b[0;34m\"c1\"\u001b[0m\u001b[0;34m,\u001b[0m\u001b[0;34m\"The Canvas Title\"\u001b[0m\u001b[0;34m,\u001b[0m\u001b[0;36m800\u001b[0m\u001b[0;34m,\u001b[0m\u001b[0;36m600\u001b[0m\u001b[0;34m)\u001b[0m\u001b[0;34m\u001b[0m\u001b[0m\n\u001b[0;32m---> 59\u001b[0;31m \u001b[0mroothist\u001b[0m \u001b[0;34m=\u001b[0m \u001b[0mhistogram\u001b[0m\u001b[0;34m.\u001b[0m\u001b[0mplot\u001b[0m\u001b[0;34m.\u001b[0m\u001b[0mroot\u001b[0m\u001b[0;34m(\u001b[0m\u001b[0;34m\"name\"\u001b[0m\u001b[0;34m,\u001b[0m \u001b[0;34m\"Invaraince mass of dilepton\"\u001b[0m\u001b[0;34m)\u001b[0m\u001b[0;34m\u001b[0m\u001b[0m\n\u001b[0m\u001b[1;32m     60\u001b[0m \u001b[0;31m#roothist = histdy.plot.root(\"name\", \"Invaraince mass of dilepton\")\u001b[0m\u001b[0;34m\u001b[0m\u001b[0;34m\u001b[0m\u001b[0m\n\u001b[1;32m     61\u001b[0m \u001b[0;31m#roothist.GetYaxis().SetTitle(\"Events\")\u001b[0m\u001b[0;34m\u001b[0m\u001b[0;34m\u001b[0m\u001b[0m\n",
      "\u001b[0;31mAttributeError\u001b[0m: 'PlotMethod' object has no attribute 'root'"
     ]
    }
   ],
   "source": [
    "#Using numpy + pyroot \n",
    "from histogrammar import *\n",
    "import histogrammar.sparksql\n",
    "#import histogrammar._\n",
    "#import histogrammar.ascii_\n",
    "\n",
    "import ROOT\n",
    "import numpy as np\n",
    "\n",
    "histogrammar.sparksql.addMethods(DF)\n",
    "\n",
    "#def FILL(hist,df,dfw):\n",
    "#    for i, j in zip(df, dfw):\n",
    "#        hist.fill(i,j)\n",
    "\n",
    "#TTDF = np.array(DF.filter(DF.proc_sample.like(\"TT\")).select('mll').collect()).flatten()\n",
    "#DYDF = np.array(DF.filter(DF.proc_sample.like(\"DYJetsToLL\")).select('mll').collect()).flatten()\n",
    "#ZZDF = np.array(DF.filter(DF.proc_sample.like(\"ZZ\")).select('mll').collect()).flatten()\n",
    "#WZDF = np.array(DF.filter(DF.proc_sample.like(\"WZ\")).select('mll').collect()).flatten()\n",
    "#WWDF = np.array(DF.filter(DF.proc_sample.like(\"WW\")).select('mll').collect()).flatten()\n",
    "#DATADF = np.array(DF.filter(DF.proc_sample.like(\"SingleMuon\")).select('mll').collect()).flatten()\n",
    "\n",
    "#TTDFW = np.array(DF.filter(DF.proc_sample.like(\"TT\")).select('proc_weight').collect()).flatten()\n",
    "#DYDFW = np.array(DF.filter(DF.proc_sample.like(\"DYJetsToLL\")).select('proc_weight').collect()).flatten()\n",
    "#ZZDFW = np.array(DF.filter(DF.proc_sample.like(\"ZZ\")).select('proc_weight').collect()).flatten()\n",
    "#WZDFW = np.array(DF.filter(DF.proc_sample.like(\"WZ\")).select('proc_weight').collect()).flatten()\n",
    "#WWDFW = np.array(DF.filter(DF.proc_sample.like(\"WW\")).select('proc_weight').collect()).flatten()\n",
    "#DATADFW = np.array(DF.filter(DF.proc_sample.like(\"SingleMuon\")).select('proc_weight').collect()).flatten()\n",
    "\n",
    "#Template\n",
    "#histogram = Bin(40, 0, 200, DF.filter(DF.proc_sample.like(\"TT\"))['mll'], Count.ing(lambda x: x*2) )\n",
    "#histogram.printIn\n",
    "#DF.where(DF.proc_sample.like(\"TT\")).histogrammar(Bin(40,0.0,200.0, DF.mll))\n",
    "test = DF.filter(DF.proc_sample.like(\"WZ\"))\n",
    "                 #histogrammar.sparksql.addMethods(DF)\n",
    "#histogram = Bin(40, 0, 200, test['mll'] )\n",
    "histogram = Bin.ing(40, 0, 200, lambda d: d.mll, Branch.ing(Count.ing(lambda d: d.proc_weight)))\n",
    "#histtt = histogram.copy()\n",
    "#histdy = histogram.copy()\n",
    "#histzz = histogram.copy()\n",
    "#histwz = histogram.copy()\n",
    "#histww = histogram.copy()\n",
    "#histdata = histogram.copy()\n",
    "\n",
    "#FILL(histtt,TTDF,TTDFW)\n",
    "#FILL(histdy,DYDF,DYDFW)\n",
    "#FILL(histzz,ZZDF,ZZDFW)\n",
    "#FILL(histwz,WZDF,WZDFW)\n",
    "#FILL(histww,WWDF,WWDFW)\n",
    "#FILL(histdata,DATADF,DATADFW)\n",
    "\n",
    "#stack = Stack.build(histtt,histdy,histzz,histwz,histww,histdata)\n",
    "#stack = Stack.build(histtt)\n",
    "#roothist = stack.plot.root(\"name\", \"Invaraince mass of dilepton\")\n",
    "#for i, h in enumerate(roothist.values()):\n",
    "#    h.SetFillColor(i + 2)\n",
    "\n",
    "c = ROOT.TCanvas(\"c1\",\"The Canvas Title\",800,600)\n",
    "roothist = histogram.plot.root(\"name\", \"Invaraince mass of dilepton\")\n",
    "#roothist = histdy.plot.root(\"name\", \"Invaraince mass of dilepton\")\n",
    "#roothist.GetYaxis().SetTitle(\"Events\")\n",
    "#roothist.GetXaxis().SetTitle(\"M_{#mu#mu} [GeV]\")\n",
    "roothist.Draw()\n",
    "c.Draw()\n",
    "#c.SaveAs(\"test.png\")\n",
    "\n",
    "\n"
   ]
  },
  {
   "cell_type": "code",
   "execution_count": 10,
   "metadata": {},
   "outputs": [
    {
     "name": "stderr",
     "output_type": "stream",
     "text": [
      "Warning in <TROOT::Append>: Replacing existing TH1: name (Potential memory leak).\n"
     ]
    },
    {
     "data": {
      "image/png": "[encoded data removed]",
      "text/plain": [
       "<IPython.core.display.Image object>"
      ]
     },
     "metadata": {},
     "output_type": "display_data"
    }
   ],
   "source": [
    "#Using numpy + pyroot\n",
    "\n",
    "from histogrammar import *\n",
    "import histogrammar.sparksql\n",
    "import ROOT\n",
    "import numpy as np\n",
    "\n",
    "#df = DF.select('mll','proc_weight').filter(DF.proc_sample.like(\"DYJetsToLL\"))\n",
    "#df.show(3)\n",
    "df = np.array(DF.filter(DF.proc_sample.like(\"WZ\")).select('mll').collect()).flatten()\n",
    "dfw = np.array(DF.filter(DF.proc_sample.like(\"WZ\")).select('proc_weight').collect()).flatten()\n",
    "\n",
    "#histogrammar.sparksql.addMethods(df)\n",
    "histogram = Bin(40, 0, 200, lambda x : x, Count())\n",
    "\n",
    "#hist = df.Bin(40, 0, 200, df['mll'])\n",
    "#hist1 = df.Bin(40, 0, 200, df['mll'], hg.Count(df['proc_weight']) )\n",
    "\n",
    "hist = histogram.copy()\n",
    "hist1 = histogram.copy()\n",
    "\n",
    "hist.fill.numpy(df)\n",
    "\n",
    "for i, j in zip(df, dfw):\n",
    "    hist1.fill(i,j)\n",
    "\n",
    "c = ROOT.TCanvas(\"c1\",\"The Canvas Title\",1200,600)\n",
    "c.Clear()\n",
    "c.Divide(2,1)\n",
    "c.cd(1)\n",
    "#c.SetLogy()\n",
    "roothist = hist.plot.root(\"name\", \"Invaraince mass of dilepton\")\n",
    "roothist.GetYaxis().SetTitle(\"Events\")\n",
    "roothist.GetXaxis().SetTitle(\"M_{#mu#mu} [GeV]\")\n",
    "roothist.Draw()\n",
    "\n",
    "c.cd(2)\n",
    "#c.SetLogy()\n",
    "roothist1 = hist1.plot.root(\"name\", \"Invaraince mass of dilepton (weighted)\")\n",
    "roothist1.GetYaxis().SetTitle(\"Events\")\n",
    "roothist1.GetXaxis().SetTitle(\"M_{#mu#mu} [GeV]\")\n",
    "roothist1.Draw()\n",
    "c.Draw()\n"
   ]
  },
  {
   "cell_type": "code",
   "execution_count": null,
   "metadata": {},
   "outputs": [],
   "source": []
  }
 ],
 "metadata": {
  "kernelspec": {
   "display_name": "Python 2",
   "language": "python",
   "name": "python2"
  },
  "language_info": {
   "codemirror_mode": {
    "name": "ipython",
    "version": 2
   },
   "file_extension": ".py",
   "mimetype": "text/x-python",
   "name": "python",
   "nbconvert_exporter": "python",
   "pygments_lexer": "ipython2",
   "version": "2.7.5"
  }
 },
 "nbformat": 4,
 "nbformat_minor": 2
}
