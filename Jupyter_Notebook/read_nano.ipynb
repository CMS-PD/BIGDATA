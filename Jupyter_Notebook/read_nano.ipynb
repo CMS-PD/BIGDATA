{
 "cells": [
  {
   "cell_type": "code",
   "execution_count": 31,
   "metadata": {},
   "outputs": [],
   "source": [
    "#Spark Context declaration\n",
    "from pyspark.sql import SparkSession\n",
    "import pyspark.sql.functions\n",
    "spark = SparkSession.builder \\\n",
    "    .master(\n",
    "        \"spark://10.64.22.66:7077\"\n",
    "    ) \\\n",
    "    .appName(# Name of your application in the dashboard/UI\n",
    "             \"00-test-spark\"\n",
    "            ) \\\n",
    "    .config(# Tell Spark to load some extra libraries from Maven (the Java repository)\n",
    "            'spark.jars.packages',\n",
    "            'org.diana-hep:spark-root_2.11:0.1.13,org.diana-hep:histogrammar-sparksql_2.11:1.0.4',\n",
    "            ) \\\n",
    "    .config('spark.cores.max',3\n",
    "            ) \\\n",
    "    .getOrCreate()"
   ]
  },
  {
   "cell_type": "code",
   "execution_count": 32,
   "metadata": {},
   "outputs": [
    {
     "name": "stdout",
     "output_type": "stream",
     "text": [
      "403819\n"
     ]
    }
   ],
   "source": [
    "# Read the ROOT file into a Spark DataFrame...\n",
    "#reading it from hdfs\n",
    "df = spark.read.format(\"org.dianahep.sparkroot\").load(\"hdfs:///user/shoh/SingleMuonRun2016H-03Feb2017_ver2-v1_NANO.root\")\n",
    "# ... and print the number of events\n",
    "print df.count()"
   ]
  },
  {
   "cell_type": "code",
   "execution_count": 50,
   "metadata": {},
   "outputs": [
    {
     "name": "stdout",
     "output_type": "stream",
     "text": [
      "+-----+-------+\n",
      "|nMuon|Muon_pt|\n",
      "+-----+-------+\n",
      "|    0|     []|\n",
      "|    0|     []|\n",
      "|    0|     []|\n",
      "|    0|     []|\n",
      "|    0|     []|\n",
      "|    0|     []|\n",
      "|    0|     []|\n",
      "|    0|     []|\n",
      "|    0|     []|\n",
      "|    0|     []|\n",
      "|    0|     []|\n",
      "|    0|     []|\n",
      "|    0|     []|\n",
      "|    0|     []|\n",
      "|    0|     []|\n",
      "|    0|     []|\n",
      "|    0|     []|\n",
      "|    0|     []|\n",
      "|    0|     []|\n",
      "|    0|     []|\n",
      "+-----+-------+\n",
      "only showing top 20 rows\n",
      "\n"
     ]
    }
   ],
   "source": [
    "Event1 = df.select(\"nMuon\",\"Muon_pt\")\n",
    "Event1 = Event1.filter(Event1.nMuon==0)\n",
    "Event1.show()\n"
   ]
  },
  {
   "cell_type": "code",
   "execution_count": 73,
   "metadata": {},
   "outputs": [
    {
     "name": "stdout",
     "output_type": "stream",
     "text": [
      "+---------+--------------------+---------+\n",
      "|RawMET_pt|         Electron_pt|nElectron|\n",
      "+---------+--------------------+---------+\n",
      "|  54.1875|                  []|        0|\n",
      "| 20.71875|[7.1949716, 6.003...|        2|\n",
      "| 40.03125|          [87.34831]|        1|\n",
      "| 53.21875|                  []|        0|\n",
      "|  45.6875|                  []|        0|\n",
      "|  48.4375|                  []|        0|\n",
      "| 21.21875|         [5.2930517]|        1|\n",
      "|21.203125|                  []|        0|\n",
      "|  37.0625|                  []|        0|\n",
      "|  32.5625|                  []|        0|\n",
      "|29.140625|         [5.5248322]|        1|\n",
      "|  23.0625|                  []|        0|\n",
      "|29.546875|                  []|        0|\n",
      "| 39.78125|[12.874033, 6.622...|        2|\n",
      "| 39.34375|                  []|        0|\n",
      "|  16.8125|                  []|        0|\n",
      "|    144.5|[54.138454, 21.3796]|        2|\n",
      "| 25.46875|                  []|        0|\n",
      "|  82.4375|                  []|        0|\n",
      "|26.171875|                  []|        0|\n",
      "+---------+--------------------+---------+\n",
      "only showing top 20 rows\n",
      "\n"
     ]
    }
   ],
   "source": [
    "#select 1D variable\n",
    "#Event1 = df.select(\"RawMET_pt\",\"Electron_pt\",\"nElectron\")\n",
    "#Event1.show()"
   ]
  },
  {
   "cell_type": "code",
   "execution_count": 74,
   "metadata": {},
   "outputs": [
    {
     "name": "stdout",
     "output_type": "stream",
     "text": [
      "+---------+-----------+---------+\n",
      "|RawMET_pt|Electron_pt|nElectron|\n",
      "+---------+-----------+---------+\n",
      "|129.75   |[220.92943]|1        |\n",
      "+---------+-----------+---------+\n",
      "only showing top 1 row\n",
      "\n"
     ]
    }
   ],
   "source": [
    "Event1.filter(Event1.RawMET_pt>=50).filter(Event1.nElectron==1).filter(Event1.Electron_pt[0]>=30).show(1, truncate=False)"
   ]
  },
  {
   "cell_type": "code",
   "execution_count": 53,
   "metadata": {},
   "outputs": [
    {
     "data": {
      "text/plain": [
       "<matplotlib.axes._subplots.AxesSubplot at 0x4454890>"
      ]
     },
     "execution_count": 53,
     "metadata": {},
     "output_type": "execute_result"
    },
    {
     "data": {
      "image/png": "[encoded data removed]",
      "text/plain": [
       "<matplotlib.figure.Figure at 0x307fb10>"
      ]
     },
     "metadata": {},
     "output_type": "display_data"
    }
   ],
   "source": [
    "#from histogrammar import *\n",
    "#import histogrammar.sparksql\n",
    "histogrammar.sparksql.addMethods(Event1)\n",
    "\n",
    "#hist = df.Bin(100, 0, 100, Event1['RawMET_pt'])\n",
    "hist = Event1.Bin(100, 0, 100, Event1.Muon_pt[0])\n",
    "#df.UntypedLabel(h1=Bin(...), h2=Bin(...))\n",
    "#df.Fraction(Bin(...))\n",
    "%matplotlib inline\n",
    "hist.plot.matplotlib(name=\"test\")"
   ]
  },
  {
   "cell_type": "code",
   "execution_count": 93,
   "metadata": {},
   "outputs": [
    {
     "data": {
      "application/javascript": [
       "\n",
       "require(['notebook'],\n",
       "  function() {\n",
       "    IPython.CodeCell.config_defaults.highlight_modes['magic_text/x-c++src'] = {'reg':[/^%%cpp/]};\n",
       "    console.log(\"JupyROOT - %%cpp magic configured\");\n",
       "  }\n",
       ");\n"
      ]
     },
     "metadata": {},
     "output_type": "display_data"
    },
    {
     "name": "stdout",
     "output_type": "stream",
     "text": [
      "Welcome to JupyROOT 6.08/00\n"
     ]
    }
   ],
   "source": []
  },
  {
   "cell_type": "code",
   "execution_count": null,
   "metadata": {},
   "outputs": [],
   "source": []
  }
 ],
 "metadata": {
  "kernelspec": {
   "display_name": "Python 2",
   "language": "python",
   "name": "python2"
  },
  "language_info": {
   "codemirror_mode": {
    "name": "ipython",
    "version": 2
   },
   "file_extension": ".py",
   "mimetype": "text/x-python",
   "name": "python",
   "nbconvert_exporter": "python",
   "pygments_lexer": "ipython2",
   "version": "2.7.5"
  }
 },
 "nbformat": 4,
 "nbformat_minor": 2
}
